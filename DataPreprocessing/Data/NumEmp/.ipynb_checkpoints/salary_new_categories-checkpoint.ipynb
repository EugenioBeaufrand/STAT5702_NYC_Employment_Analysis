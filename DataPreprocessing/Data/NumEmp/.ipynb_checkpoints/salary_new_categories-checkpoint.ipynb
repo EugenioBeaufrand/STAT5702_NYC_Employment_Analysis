{
 "cells": [
  {
   "cell_type": "code",
   "execution_count": 13,
   "metadata": {},
   "outputs": [],
   "source": [
    "import pandas as pd\n",
    "import numpy as np\n",
    "import os"
   ]
  },
  {
   "cell_type": "code",
   "execution_count": 14,
   "metadata": {},
   "outputs": [],
   "source": [
    "salary_edu = pd.read_csv(r\"/Users/tracy/Desktop/STAT5702_NYC_Employment_Analysis/DataPreprocessing/salary/NewSalary.csv\")\n"
   ]
  },
  {
   "cell_type": "code",
   "execution_count": 15,
   "metadata": {},
   "outputs": [],
   "source": [
    "# Analyze on salary variation according to different year ranges\n",
    "salary_edu['Salary_CountyGender'] = salary_edu.groupby(['Boroughs','Gender','year'])['Salary'].transform('sum')\n",
    "salary_edu = salary_edu.iloc[:,[1,2,3,14]].drop_duplicates()\n"
   ]
  },
  {
   "cell_type": "code",
   "execution_count": 16,
   "metadata": {},
   "outputs": [],
   "source": [
    "salary_edu.to_csv(r\"/Users/tracy/Desktop/STAT5702_NYC_Employment_Analysis/DataPreprocessing/education/salary_edu.csv\")"
   ]
  }
 ],
 "metadata": {
  "kernelspec": {
   "display_name": "Python 3",
   "language": "python",
   "name": "python3"
  },
  "language_info": {
   "codemirror_mode": {
    "name": "ipython",
    "version": 3
   },
   "file_extension": ".py",
   "mimetype": "text/x-python",
   "name": "python",
   "nbconvert_exporter": "python",
   "pygments_lexer": "ipython3",
   "version": "3.9.0"
  }
 },
 "nbformat": 4,
 "nbformat_minor": 4
}
