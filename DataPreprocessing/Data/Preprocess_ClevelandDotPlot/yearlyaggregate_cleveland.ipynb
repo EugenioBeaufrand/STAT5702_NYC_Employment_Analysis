{
 "cells": [
  {
   "cell_type": "code",
   "execution_count": 1,
   "metadata": {},
   "outputs": [],
   "source": [
    "import pandas as pd\n",
    "import numpy as np\n",
    "import os"
   ]
  },
  {
   "cell_type": "code",
   "execution_count": 4,
   "metadata": {},
   "outputs": [],
   "source": [
    "#Data = pd.read_csv('C:/Users/Administrator/Desktop/columbia/5702/STAT5702_NYC_Employment_Analysis/RawData/DetailedAnalysisOnSex+Occupation+Race/race.csv')\n",
    "Data = pd.read_csv('C:/Users/eabea/Dropbox/Documents/STAT W5702/Project/STAT5702_NYC_Employment_Analysis/RawData/DetailedAnalysisOnSex+Occupation+Race/race.csv')"
   ]
  },
  {
   "cell_type": "code",
   "execution_count": 5,
   "metadata": {},
   "outputs": [],
   "source": [
    "cols = ['Unnamed: 0', 'Label', 'Bronx County, New York', 'Kings County, New York', 'New York County, New York', 'Queens County, New York', 'Richmond County, New York', 'race', 'year']\n",
    "\n",
    "try:\n",
    "    Data = Data[cols]\n",
    "    Data = Data.drop(columns = 'Unnamed: 0')\n",
    "except KeyError:\n",
    "    pass\n",
    "\n",
    "Data.fillna(0,inplace = True)"
   ]
  },
  {
   "cell_type": "code",
   "execution_count": 30,
   "metadata": {},
   "outputs": [
    {
     "ename": "ValueError",
     "evalue": "style is not supported for non-unique indices.",
     "output_type": "error",
     "traceback": [
      "\u001b[1;31m---------------------------------------------------------------------------\u001b[0m",
      "\u001b[1;31mValueError\u001b[0m                                Traceback (most recent call last)",
      "\u001b[1;32m<ipython-input-30-21201192fb2b>\u001b[0m in \u001b[0;36m<module>\u001b[1;34m\u001b[0m\n\u001b[0;32m     19\u001b[0m \u001b[0mOccupationsByYear\u001b[0m \u001b[1;33m=\u001b[0m \u001b[0mpd\u001b[0m\u001b[1;33m.\u001b[0m\u001b[0mconcat\u001b[0m\u001b[1;33m(\u001b[0m\u001b[0mOccupationsByYear\u001b[0m\u001b[1;33m)\u001b[0m\u001b[1;33m\u001b[0m\u001b[1;33m\u001b[0m\u001b[0m\n\u001b[0;32m     20\u001b[0m \u001b[1;33m\u001b[0m\u001b[0m\n\u001b[1;32m---> 21\u001b[1;33m \u001b[0mOccupationsByYear\u001b[0m\u001b[1;33m.\u001b[0m\u001b[0mstyle\u001b[0m\u001b[1;33m\u001b[0m\u001b[1;33m\u001b[0m\u001b[0m\n\u001b[0m",
      "\u001b[1;32m~\\anaconda3\\lib\\site-packages\\pandas\\core\\frame.py\u001b[0m in \u001b[0;36mstyle\u001b[1;34m(self)\u001b[0m\n\u001b[0;32m    899\u001b[0m         \u001b[1;32mfrom\u001b[0m \u001b[0mpandas\u001b[0m\u001b[1;33m.\u001b[0m\u001b[0mio\u001b[0m\u001b[1;33m.\u001b[0m\u001b[0mformats\u001b[0m\u001b[1;33m.\u001b[0m\u001b[0mstyle\u001b[0m \u001b[1;32mimport\u001b[0m \u001b[0mStyler\u001b[0m\u001b[1;33m\u001b[0m\u001b[1;33m\u001b[0m\u001b[0m\n\u001b[0;32m    900\u001b[0m \u001b[1;33m\u001b[0m\u001b[0m\n\u001b[1;32m--> 901\u001b[1;33m         \u001b[1;32mreturn\u001b[0m \u001b[0mStyler\u001b[0m\u001b[1;33m(\u001b[0m\u001b[0mself\u001b[0m\u001b[1;33m)\u001b[0m\u001b[1;33m\u001b[0m\u001b[1;33m\u001b[0m\u001b[0m\n\u001b[0m\u001b[0;32m    902\u001b[0m \u001b[1;33m\u001b[0m\u001b[0m\n\u001b[0;32m    903\u001b[0m     _shared_docs[\n",
      "\u001b[1;32m~\\anaconda3\\lib\\site-packages\\pandas\\io\\formats\\style.py\u001b[0m in \u001b[0;36m__init__\u001b[1;34m(self, data, precision, table_styles, uuid, caption, table_attributes, cell_ids, na_rep)\u001b[0m\n\u001b[0;32m    154\u001b[0m             \u001b[0mdata\u001b[0m \u001b[1;33m=\u001b[0m \u001b[0mdata\u001b[0m\u001b[1;33m.\u001b[0m\u001b[0mto_frame\u001b[0m\u001b[1;33m(\u001b[0m\u001b[1;33m)\u001b[0m\u001b[1;33m\u001b[0m\u001b[1;33m\u001b[0m\u001b[0m\n\u001b[0;32m    155\u001b[0m         \u001b[1;32mif\u001b[0m \u001b[1;32mnot\u001b[0m \u001b[0mdata\u001b[0m\u001b[1;33m.\u001b[0m\u001b[0mindex\u001b[0m\u001b[1;33m.\u001b[0m\u001b[0mis_unique\u001b[0m \u001b[1;32mor\u001b[0m \u001b[1;32mnot\u001b[0m \u001b[0mdata\u001b[0m\u001b[1;33m.\u001b[0m\u001b[0mcolumns\u001b[0m\u001b[1;33m.\u001b[0m\u001b[0mis_unique\u001b[0m\u001b[1;33m:\u001b[0m\u001b[1;33m\u001b[0m\u001b[1;33m\u001b[0m\u001b[0m\n\u001b[1;32m--> 156\u001b[1;33m             \u001b[1;32mraise\u001b[0m \u001b[0mValueError\u001b[0m\u001b[1;33m(\u001b[0m\u001b[1;34m\"style is not supported for non-unique indices.\"\u001b[0m\u001b[1;33m)\u001b[0m\u001b[1;33m\u001b[0m\u001b[1;33m\u001b[0m\u001b[0m\n\u001b[0m\u001b[0;32m    157\u001b[0m \u001b[1;33m\u001b[0m\u001b[0m\n\u001b[0;32m    158\u001b[0m         \u001b[0mself\u001b[0m\u001b[1;33m.\u001b[0m\u001b[0mdata\u001b[0m \u001b[1;33m=\u001b[0m \u001b[0mdata\u001b[0m\u001b[1;33m\u001b[0m\u001b[1;33m\u001b[0m\u001b[0m\n",
      "\u001b[1;31mValueError\u001b[0m: style is not supported for non-unique indices."
     ]
    }
   ],
   "source": [
    "Years = [i for i in range(2010,2020)]\n",
    "OccupationsByYear = []\n",
    "\n",
    "for year in Years:\n",
    "    Occupations = {'Management occupations':0,'Business and financial operations occupations':0,'Computer and mathematical occupations':0,'Architecture and engineering occupations':0,'Life, physical, and social science occupations':0,'Community and social service occupations':0,'Legal occupations':0,'Education, training, and library occupations':0,'Arts, design, entertainment, sports, and media occupations':0,'Healthcare practitioners and technical occupations:':0,'Fire fighting and prevention, and other protective service workers including supervisors':0,'Law enforcement workers including supervisors':0,'Food preparation and serving related occupations':0,'Sales and related occupations':0,'Office and administrative support occupations':0,'Farming, fishing, and forestry occupations':0,'Construction and extraction occupations':0,'Installation, maintenance, and repair occupations':0,'Production occupations':0,'Transportation occupations':0,'Material moving occupations':0}\n",
    "    YearData = Data[Data['year'] == year]\n",
    "    for i in range(YearData.shape[0]):\n",
    "        for key in Occupations.keys():           \n",
    "            if key in YearData.iloc[i][0] and sum(YearData.iloc[i][x] for x in range(1,6)) != np.nan:\n",
    "                Occupations[key] += sum(YearData.iloc[i][x] for x in range(1,6)) \n",
    "    \n",
    "    Occupations = pd.DataFrame.from_dict(Occupations,orient='index',columns=['NumEmps'])\n",
    "    Occupations.insert(loc=0,column = 'Occupations',value = Occupations.index)\n",
    "    Occupations.reset_index(drop=True,inplace=True)\n",
    "    Occupations['year'] = year\n",
    "    OccupationsByYear.append(Occupations)\n",
    "\n",
    "\n",
    "OccupationsByYear = pd.concat(OccupationsByYear)"
   ]
  },
  {
   "cell_type": "code",
   "execution_count": 32,
   "metadata": {},
   "outputs": [],
   "source": [
    "OccupationsByYear.to_csv(os.path.join('C:/Users/eabea/Dropbox/Documents/STAT W5702/Project/STAT5702_NYC_Employment_Analysis/DataPreprocessing/Data/Preprocess_ClevelandDotPlot/','YearlyAggregateClevelandDotPlotData.csv'),index=False)"
   ]
  }
 ],
 "metadata": {
  "kernelspec": {
   "display_name": "Python 3",
   "language": "python",
   "name": "python3"
  },
  "language_info": {
   "codemirror_mode": {
    "name": "ipython",
    "version": 3
   },
   "file_extension": ".py",
   "mimetype": "text/x-python",
   "name": "python",
   "nbconvert_exporter": "python",
   "pygments_lexer": "ipython3",
   "version": "3.7.6"
  }
 },
 "nbformat": 4,
 "nbformat_minor": 4
}
