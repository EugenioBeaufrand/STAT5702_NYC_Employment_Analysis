{
 "cells": [
  {
   "cell_type": "code",
   "execution_count": 8,
   "metadata": {},
   "outputs": [],
   "source": [
    "import pandas as pd\n",
    "import numpy as np\n",
    "import os"
   ]
  },
  {
   "cell_type": "code",
   "execution_count": 10,
   "metadata": {},
   "outputs": [],
   "source": [
    "#Data = pd.read_csv('/Users/tracy/Desktop/columbia/5702/STAT5702_NYC_Employment_Analysis/RawData/DetailedAnalysisOnSex+Occupation+Race/race.csv')\n",
    "Data = pd.read_csv('C:/Users/eabea/Dropbox/Documents/STAT W5702/Project/STAT5702_NYC_Employment_Analysis/RawData/OccupationVSotherVariables/DetailedAnalysisOnSex+Occupation+Race/race.csv')"
   ]
  },
  {
   "cell_type": "code",
   "execution_count": 11,
   "metadata": {},
   "outputs": [],
   "source": [
    "cols = ['Unnamed: 0', 'Label', 'Bronx County, New York', 'Kings County, New York', 'New York County, New York', 'Queens County, New York', 'Richmond County, New York', 'race', 'year']\n",
    "\n",
    "try:\n",
    "    Data = Data[cols]\n",
    "    Data = Data.drop(columns = 'Unnamed: 0')\n",
    "except KeyError:\n",
    "    pass\n",
    "\n",
    "Data.fillna(0,inplace = True)"
   ]
  },
  {
   "cell_type": "code",
   "execution_count": 12,
   "metadata": {},
   "outputs": [],
   "source": [
    "Years = [i for i in range(2010,2020)]\n",
    "OccupationsByYear = []\n",
    "\n",
    "for year in Years:\n",
    "    Occupations = {'Management occupations':0,\n",
    "               'Business and financial operations occupations':0,\n",
    "               'Computer and mathematical occupations':0,\n",
    "               'Architecture and engineering occupations':0,\n",
    "               'Life, physical, and social science occupations':0,\n",
    "               'Community and social service occupations':0,\n",
    "               'Legal occupations':0,\n",
    "               'Education, training, and library occupations':0,\n",
    "               'Arts, design, entertainment, sports, and media occupations':0,\n",
    "               'Health diagnosing and treating practitioners and other technical occupations':0,\n",
    "               'Health technologists and technicians':0,\n",
    "               'Healthcare support occupations':0,\n",
    "               'Fire fighting and prevention, and other protective service workers including supervisors':0,\n",
    "               'Law enforcement workers including supervisors':0,\n",
    "               'Food preparation and serving related occupations':0,\n",
    "               'Building and grounds cleaning and maintenance occupations':0,\n",
    "               'Personal care and service occupations':0,\n",
    "               'Sales and related occupations':0,\n",
    "               'Office and administrative support occupations':0,\n",
    "               'Farming, fishing, and forestry occupations':0,\n",
    "               'Construction and extraction occupations':0,\n",
    "               'Installation, maintenance, and repair occupations':0,\n",
    "               'Production occupations':0,\n",
    "               'Transportation occupations':0,\n",
    "               'Material moving occupations':0}\n",
    "    YearData = Data[Data['year'] == year]\n",
    "    for i in range(YearData.shape[0]):\n",
    "        for key in Occupations.keys():           \n",
    "            if key in YearData.iloc[i][0] and sum(YearData.iloc[i][x] for x in range(1,6)) != np.nan:\n",
    "                Occupations[key] += sum(YearData.iloc[i][x] for x in range(1,6)) \n",
    "    \n",
    "    Occupations = pd.DataFrame.from_dict(Occupations,orient='index',columns=['NumEmps'])\n",
    "    Occupations.insert(loc=0,column = 'Occupations',value = Occupations.index)\n",
    "    Occupations.reset_index(drop=True,inplace=True)\n",
    "    Occupations['year'] = year\n",
    "    OccupationsByYear.append(Occupations)\n",
    "\n",
    "\n",
    "OccupationsByYear = pd.concat(OccupationsByYear)"
   ]
  },
  {
   "cell_type": "code",
   "execution_count": 14,
   "metadata": {},
   "outputs": [],
   "source": [
    "OccupationsByYear.to_csv(os.path.join('C:/Users/eabea/Dropbox/Documents/STAT W5702/Project/STAT5702_NYC_Employment_Analysis/DataPreprocessing/Data/Preprocess_ClevelandDotPlot/','yearly_cleveland.csv'),index=False)\n",
    "#OccupationsByYear.to_csv('/Users/tracy/Desktop/columbia/5702/STAT5702_NYC_Employment_Analysis/DataPreprocessing/Data/Preprocess_ClevelandDotPlot/yearly_cleveland.csv')"
   ]
  },
  {
   "cell_type": "code",
   "execution_count": null,
   "metadata": {},
   "outputs": [],
   "source": []
  }
 ],
 "metadata": {
  "kernelspec": {
   "display_name": "Python 3",
   "language": "python",
   "name": "python3"
  },
  "language_info": {
   "codemirror_mode": {
    "name": "ipython",
    "version": 3
   },
   "file_extension": ".py",
   "mimetype": "text/x-python",
   "name": "python",
   "nbconvert_exporter": "python",
   "pygments_lexer": "ipython3",
   "version": "3.7.6"
  }
 },
 "nbformat": 4,
 "nbformat_minor": 4
}
