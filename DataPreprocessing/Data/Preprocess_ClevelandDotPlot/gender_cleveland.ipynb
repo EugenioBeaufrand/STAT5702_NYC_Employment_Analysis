{
 "cells": [
  {
   "cell_type": "code",
   "execution_count": 1,
   "metadata": {},
   "outputs": [],
   "source": [
    "import pandas as pd\n",
    "import numpy as np\n",
    "import os"
   ]
  },
  {
   "cell_type": "code",
   "execution_count": 2,
   "metadata": {},
   "outputs": [],
   "source": [
    "Data = pd.read_csv('/Users/tracy/Desktop/columbia/5702/STAT5702_NYC_Employment_Analysis/RawData/DetailedAnalysisOnSex+Occupation+Race/race.csv')\n",
    "#Data = pd.read_csv('C:/Users/eabea/Dropbox/Documents/STAT W5702/Project/STAT5702_NYC_Employment_Analysis/RawData/DetailedAnalysisOnSex+Occupation+Race/race.csv')"
   ]
  },
  {
   "cell_type": "code",
   "execution_count": 3,
   "metadata": {},
   "outputs": [],
   "source": [
    "cols = ['Unnamed: 0', 'Label', 'Bronx County, New York', 'Kings County, New York', 'New York County, New York', 'Queens County, New York', 'Richmond County, New York', 'race', 'year']\n",
    "\n",
    "try:\n",
    "    Data = Data[cols]\n",
    "    Data = Data.drop(columns = 'Unnamed: 0')\n",
    "except KeyError:\n",
    "    pass\n",
    "\n",
    "Data.fillna(0,inplace = True)"
   ]
  },
  {
   "cell_type": "code",
   "execution_count": 4,
   "metadata": {},
   "outputs": [
    {
     "name": "stdout",
     "output_type": "stream",
     "text": [
      "                                          Occupations    NumEmps  Gender\n",
      "0                              Management occupations  2907328.0  Female\n",
      "1       Business and financial operations occupations  1890713.0  Female\n",
      "2               Computer and mathematical occupations   423310.0  Female\n",
      "3            Architecture and engineering occupations   142962.0  Female\n",
      "4      Life, physical, and social science occupations   317339.0  Female\n",
      "5            Community and social service occupations   832119.0  Female\n",
      "6                                   Legal occupations   705565.0  Female\n",
      "7        Education, training, and library occupations  2946935.0  Female\n",
      "8   Arts, design, entertainment, sports, and media...  1631104.0  Female\n",
      "9   Health diagnosing and treating practitioners a...  1553597.0  Female\n",
      "10               Health technologists and technicians   541428.0  Female\n",
      "11                     Healthcare support occupations  2553980.0  Female\n",
      "12  Fire fighting and prevention, and other protec...   264597.0  Female\n",
      "13      Law enforcement workers including supervisors   157879.0  Female\n",
      "14   Food preparation and serving related occupations  1290381.0  Female\n",
      "15  Building and grounds cleaning and maintenance ...  1381537.0  Female\n",
      "16              Personal care and service occupations  2100940.0  Female\n",
      "17                      Sales and related occupations  3013427.0  Female\n",
      "18      Office and administrative support occupations  5018032.0  Female\n",
      "19         Farming, fishing, and forestry occupations    13913.0  Female\n",
      "20            Construction and extraction occupations    84242.0  Female\n",
      "21  Installation, maintenance, and repair occupations    50150.0  Female\n",
      "22                             Production occupations   597680.0  Female\n",
      "23                         Transportation occupations   267719.0  Female\n",
      "24                        Material moving occupations   200278.0  Female\n",
      "0                              Management occupations  3695589.0    Male\n",
      "1       Business and financial operations occupations  1897891.0    Male\n",
      "2               Computer and mathematical occupations  1248987.0    Male\n",
      "3            Architecture and engineering occupations   485818.0    Male\n",
      "4      Life, physical, and social science occupations   248477.0    Male\n",
      "5            Community and social service occupations   389168.0    Male\n",
      "6                                   Legal occupations   727841.0    Male\n",
      "7        Education, training, and library occupations  1287700.0    Male\n",
      "8   Arts, design, entertainment, sports, and media...  1736767.0    Male\n",
      "9   Health diagnosing and treating practitioners a...   656618.0    Male\n",
      "10               Health technologists and technicians   243231.0    Male\n",
      "11                     Healthcare support occupations   302770.0    Male\n",
      "12  Fire fighting and prevention, and other protec...   805074.0    Male\n",
      "13      Law enforcement workers including supervisors   419888.0    Male\n",
      "14   Food preparation and serving related occupations  2499218.0    Male\n",
      "15  Building and grounds cleaning and maintenance ...  1591362.0    Male\n",
      "16              Personal care and service occupations   816079.0    Male\n",
      "17                      Sales and related occupations  3318480.0    Male\n",
      "18      Office and administrative support occupations  2503588.0    Male\n",
      "19         Farming, fishing, and forestry occupations    34636.0    Male\n",
      "20            Construction and extraction occupations  2808545.0    Male\n",
      "21  Installation, maintenance, and repair occupations  1088763.0    Male\n",
      "22                             Production occupations  1080787.0    Male\n",
      "23                         Transportation occupations  2447545.0    Male\n",
      "24                        Material moving occupations   797398.0    Male\n"
     ]
    }
   ],
   "source": [
    "Genders = ['Female','Male']\n",
    "OccupationsByGender = []\n",
    "\n",
    "for Gender in Genders:\n",
    "    Occupations = {'Management occupations':0,\n",
    "               'Business and financial operations occupations':0,\n",
    "               'Computer and mathematical occupations':0,\n",
    "               'Architecture and engineering occupations':0,\n",
    "               'Life, physical, and social science occupations':0,\n",
    "               'Community and social service occupations':0,\n",
    "               'Legal occupations':0,\n",
    "               'Education, training, and library occupations':0,\n",
    "               'Arts, design, entertainment, sports, and media occupations':0,\n",
    "               'Health diagnosing and treating practitioners and other technical occupations':0,\n",
    "               'Health technologists and technicians':0,\n",
    "               'Healthcare support occupations':0,\n",
    "               'Fire fighting and prevention, and other protective service workers including supervisors':0,\n",
    "               'Law enforcement workers including supervisors':0,\n",
    "               'Food preparation and serving related occupations':0,\n",
    "               'Building and grounds cleaning and maintenance occupations':0,\n",
    "               'Personal care and service occupations':0,\n",
    "               'Sales and related occupations':0,\n",
    "               'Office and administrative support occupations':0,\n",
    "               'Farming, fishing, and forestry occupations':0,\n",
    "               'Construction and extraction occupations':0,\n",
    "               'Installation, maintenance, and repair occupations':0,\n",
    "               'Production occupations':0,\n",
    "               'Transportation occupations':0,\n",
    "               'Material moving occupations':0}\n",
    "    for i in range(Data.shape[0]):\n",
    "        for key in Occupations.keys():           \n",
    "            if key + '_' + Gender == Data.iloc[i][0] and sum(Data.iloc[i][x] for x in range(1,6)) != np.nan:\n",
    "                Occupations[key] += sum(Data.iloc[i][x] for x in range(1,6)) \n",
    "    \n",
    "    Occupations = pd.DataFrame.from_dict(Occupations,orient='index',columns=['NumEmps'])\n",
    "    Occupations.insert(loc=0,column = 'Occupations',value = Occupations.index)\n",
    "    Occupations.reset_index(drop=True,inplace=True)\n",
    "    Occupations['Gender'] = Gender\n",
    "    OccupationsByGender.append(Occupations)\n",
    "\n",
    "\n",
    "OccupationsByGender = pd.concat(OccupationsByGender)\n",
    "print(OccupationsByGender)"
   ]
  },
  {
   "cell_type": "code",
   "execution_count": 5,
   "metadata": {},
   "outputs": [],
   "source": [
    "OccupationsByGender.to_csv('/Users/tracy/Desktop/columbia/5702/STAT5702_NYC_Employment_Analysis/DataPreprocessing/Data/Preprocess_ClevelandDotPlot/GenderClevelandDotPlotData.csv')"
   ]
  }
 ],
 "metadata": {
  "kernelspec": {
   "display_name": "Python 3",
   "language": "python",
   "name": "python3"
  },
  "language_info": {
   "codemirror_mode": {
    "name": "ipython",
    "version": 3
   },
   "file_extension": ".py",
   "mimetype": "text/x-python",
   "name": "python",
   "nbconvert_exporter": "python",
   "pygments_lexer": "ipython3",
   "version": "3.9.0"
  }
 },
 "nbformat": 4,
 "nbformat_minor": 4
}
