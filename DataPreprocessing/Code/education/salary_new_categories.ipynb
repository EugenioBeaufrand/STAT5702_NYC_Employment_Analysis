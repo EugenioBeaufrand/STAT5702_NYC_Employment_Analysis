{
 "cells": [
  {
   "cell_type": "code",
   "execution_count": 1,
   "metadata": {},
   "outputs": [],
   "source": [
    "import pandas as pd\n",
    "import numpy as np\n",
    "import os"
   ]
  },
  {
   "cell_type": "code",
   "execution_count": 8,
   "metadata": {},
   "outputs": [],
   "source": [
    "salary_edu = pd.read_csv(r\"/Users/eabea/Dropbox/Documents/STAT W5702/Project/STAT5702_NYC_Employment_Analysis/DataPreprocessing/Data/Salary/NewSalary.csv\")\n"
   ]
  },
  {
   "cell_type": "code",
   "execution_count": 9,
   "metadata": {},
   "outputs": [
    {
     "data": {
      "text/html": [
       "<div>\n",
       "<style scoped>\n",
       "    .dataframe tbody tr th:only-of-type {\n",
       "        vertical-align: middle;\n",
       "    }\n",
       "\n",
       "    .dataframe tbody tr th {\n",
       "        vertical-align: top;\n",
       "    }\n",
       "\n",
       "    .dataframe thead th {\n",
       "        text-align: right;\n",
       "    }\n",
       "</style>\n",
       "<table border=\"1\" class=\"dataframe\">\n",
       "  <thead>\n",
       "    <tr style=\"text-align: right;\">\n",
       "      <th></th>\n",
       "      <th>Gender</th>\n",
       "      <th>Boroughs</th>\n",
       "      <th>year</th>\n",
       "      <th>Salary_CountyGender</th>\n",
       "    </tr>\n",
       "  </thead>\n",
       "  <tbody>\n",
       "    <tr>\n",
       "      <th>0</th>\n",
       "      <td>Male</td>\n",
       "      <td>Bronx County</td>\n",
       "      <td>year2010</td>\n",
       "      <td>41084.160000</td>\n",
       "    </tr>\n",
       "    <tr>\n",
       "      <th>1</th>\n",
       "      <td>Male</td>\n",
       "      <td>Bronx County</td>\n",
       "      <td>year2011</td>\n",
       "      <td>41193.040000</td>\n",
       "    </tr>\n",
       "    <tr>\n",
       "      <th>2</th>\n",
       "      <td>Male</td>\n",
       "      <td>Bronx County</td>\n",
       "      <td>year2012</td>\n",
       "      <td>39712.680000</td>\n",
       "    </tr>\n",
       "    <tr>\n",
       "      <th>3</th>\n",
       "      <td>Male</td>\n",
       "      <td>Bronx County</td>\n",
       "      <td>year2013</td>\n",
       "      <td>40585.760000</td>\n",
       "    </tr>\n",
       "    <tr>\n",
       "      <th>4</th>\n",
       "      <td>Male</td>\n",
       "      <td>Bronx County</td>\n",
       "      <td>year2014</td>\n",
       "      <td>39686.440000</td>\n",
       "    </tr>\n",
       "    <tr>\n",
       "      <th>...</th>\n",
       "      <td>...</td>\n",
       "      <td>...</td>\n",
       "      <td>...</td>\n",
       "      <td>...</td>\n",
       "    </tr>\n",
       "    <tr>\n",
       "      <th>2255</th>\n",
       "      <td>Female</td>\n",
       "      <td>Richmond County</td>\n",
       "      <td>year2015</td>\n",
       "      <td>45296.985000</td>\n",
       "    </tr>\n",
       "    <tr>\n",
       "      <th>2256</th>\n",
       "      <td>Female</td>\n",
       "      <td>Richmond County</td>\n",
       "      <td>year2016</td>\n",
       "      <td>46717.985000</td>\n",
       "    </tr>\n",
       "    <tr>\n",
       "      <th>2257</th>\n",
       "      <td>Female</td>\n",
       "      <td>Richmond County</td>\n",
       "      <td>year2017</td>\n",
       "      <td>48114.186667</td>\n",
       "    </tr>\n",
       "    <tr>\n",
       "      <th>2258</th>\n",
       "      <td>Female</td>\n",
       "      <td>Richmond County</td>\n",
       "      <td>year2018</td>\n",
       "      <td>50237.146667</td>\n",
       "    </tr>\n",
       "    <tr>\n",
       "      <th>2259</th>\n",
       "      <td>Female</td>\n",
       "      <td>Richmond County</td>\n",
       "      <td>year2019</td>\n",
       "      <td>47875.746667</td>\n",
       "    </tr>\n",
       "  </tbody>\n",
       "</table>\n",
       "<p>100 rows × 4 columns</p>\n",
       "</div>"
      ],
      "text/plain": [
       "      Gender         Boroughs      year  Salary_CountyGender\n",
       "0       Male     Bronx County  year2010         41084.160000\n",
       "1       Male     Bronx County  year2011         41193.040000\n",
       "2       Male     Bronx County  year2012         39712.680000\n",
       "3       Male     Bronx County  year2013         40585.760000\n",
       "4       Male     Bronx County  year2014         39686.440000\n",
       "...      ...              ...       ...                  ...\n",
       "2255  Female  Richmond County  year2015         45296.985000\n",
       "2256  Female  Richmond County  year2016         46717.985000\n",
       "2257  Female  Richmond County  year2017         48114.186667\n",
       "2258  Female  Richmond County  year2018         50237.146667\n",
       "2259  Female  Richmond County  year2019         47875.746667\n",
       "\n",
       "[100 rows x 4 columns]"
      ]
     },
     "execution_count": 9,
     "metadata": {},
     "output_type": "execute_result"
    }
   ],
   "source": [
    "# Analyze on salary variation according to different year ranges\n",
    "salary_edu['Salary_CountyGender'] = salary_edu.groupby(['Boroughs','Gender','year'])['Salary'].transform('mean')\n",
    "salary_edu = salary_edu.iloc[:,[1,2,3,14]].drop_duplicates()\n",
    "salary_edu"
   ]
  },
  {
   "cell_type": "code",
   "execution_count": 12,
   "metadata": {},
   "outputs": [],
   "source": [
    "salary_edu.to_csv(r\"/Users/eabea/Dropbox/Documents/STAT W5702/Project/STAT5702_NYC_Employment_Analysis/DataPreprocessing/Data/education/salary_edu.csv\")"
   ]
  }
 ],
 "metadata": {
  "kernelspec": {
   "display_name": "Python 3",
   "language": "python",
   "name": "python3"
  },
  "language_info": {
   "codemirror_mode": {
    "name": "ipython",
    "version": 3
   },
   "file_extension": ".py",
   "mimetype": "text/x-python",
   "name": "python",
   "nbconvert_exporter": "python",
   "pygments_lexer": "ipython3",
   "version": "3.7.6"
  }
 },
 "nbformat": 4,
 "nbformat_minor": 4
}
