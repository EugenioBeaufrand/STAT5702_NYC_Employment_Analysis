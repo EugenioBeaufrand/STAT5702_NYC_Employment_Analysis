{
 "cells": [
  {
   "cell_type": "code",
   "execution_count": 1,
   "metadata": {},
   "outputs": [],
   "source": [
    "import pandas as pd\n",
    "import numpy as np\n",
    "import os"
   ]
  },
  {
   "cell_type": "code",
   "execution_count": 2,
   "metadata": {},
   "outputs": [
    {
     "ename": "ImportError",
     "evalue": "Missing optional dependency 'xlrd'. Install xlrd >= 1.0.0 for Excel support Use pip or conda to install xlrd.",
     "output_type": "error",
     "traceback": [
      "\u001b[0;31m---------------------------------------------------------------------------\u001b[0m",
      "\u001b[0;31mImportError\u001b[0m                               Traceback (most recent call last)",
      "\u001b[0;32m<ipython-input-2-ed277d29f9ce>\u001b[0m in \u001b[0;36m<module>\u001b[0;34m\u001b[0m\n\u001b[1;32m      9\u001b[0m \u001b[0murl_JobType2018\u001b[0m \u001b[0;34m=\u001b[0m \u001b[0;34m\"https://github.com/tracy3057/STAT5702_NYC_Employment_Analysis/raw/main/RawData/employment/employmentByJobType/JobType_2018.xlsx\"\u001b[0m\u001b[0;34m\u001b[0m\u001b[0;34m\u001b[0m\u001b[0m\n\u001b[1;32m     10\u001b[0m \u001b[0murl_JobType2019\u001b[0m \u001b[0;34m=\u001b[0m \u001b[0;34m\"https://github.com/tracy3057/STAT5702_NYC_Employment_Analysis/raw/main/RawData/employment/employmentByJobType/JobType_2019.xlsx\"\u001b[0m\u001b[0;34m\u001b[0m\u001b[0;34m\u001b[0m\u001b[0m\n\u001b[0;32m---> 11\u001b[0;31m \u001b[0mJobType_2010\u001b[0m \u001b[0;34m=\u001b[0m \u001b[0mpd\u001b[0m\u001b[0;34m.\u001b[0m\u001b[0mread_excel\u001b[0m\u001b[0;34m(\u001b[0m\u001b[0murl_JobType2010\u001b[0m\u001b[0;34m,\u001b[0m\u001b[0mindex_col\u001b[0m\u001b[0;34m=\u001b[0m\u001b[0;36m0\u001b[0m\u001b[0;34m)\u001b[0m\u001b[0;34m\u001b[0m\u001b[0;34m\u001b[0m\u001b[0m\n\u001b[0m\u001b[1;32m     12\u001b[0m \u001b[0mJobType_2011\u001b[0m \u001b[0;34m=\u001b[0m \u001b[0mpd\u001b[0m\u001b[0;34m.\u001b[0m\u001b[0mread_excel\u001b[0m\u001b[0;34m(\u001b[0m\u001b[0murl_JobType2011\u001b[0m\u001b[0;34m,\u001b[0m\u001b[0mindex_col\u001b[0m\u001b[0;34m=\u001b[0m\u001b[0;36m0\u001b[0m\u001b[0;34m)\u001b[0m\u001b[0;34m\u001b[0m\u001b[0;34m\u001b[0m\u001b[0m\n\u001b[1;32m     13\u001b[0m \u001b[0mJobType_2012\u001b[0m \u001b[0;34m=\u001b[0m \u001b[0mpd\u001b[0m\u001b[0;34m.\u001b[0m\u001b[0mread_excel\u001b[0m\u001b[0;34m(\u001b[0m\u001b[0murl_JobType2012\u001b[0m\u001b[0;34m,\u001b[0m\u001b[0mindex_col\u001b[0m\u001b[0;34m=\u001b[0m\u001b[0;36m0\u001b[0m\u001b[0;34m)\u001b[0m\u001b[0;34m\u001b[0m\u001b[0;34m\u001b[0m\u001b[0m\n",
      "\u001b[0;32m/Library/Frameworks/Python.framework/Versions/3.9/lib/python3.9/site-packages/pandas/util/_decorators.py\u001b[0m in \u001b[0;36mwrapper\u001b[0;34m(*args, **kwargs)\u001b[0m\n\u001b[1;32m    294\u001b[0m                 )\n\u001b[1;32m    295\u001b[0m                 \u001b[0mwarnings\u001b[0m\u001b[0;34m.\u001b[0m\u001b[0mwarn\u001b[0m\u001b[0;34m(\u001b[0m\u001b[0mmsg\u001b[0m\u001b[0;34m,\u001b[0m \u001b[0mFutureWarning\u001b[0m\u001b[0;34m,\u001b[0m \u001b[0mstacklevel\u001b[0m\u001b[0;34m=\u001b[0m\u001b[0mstacklevel\u001b[0m\u001b[0;34m)\u001b[0m\u001b[0;34m\u001b[0m\u001b[0;34m\u001b[0m\u001b[0m\n\u001b[0;32m--> 296\u001b[0;31m             \u001b[0;32mreturn\u001b[0m \u001b[0mfunc\u001b[0m\u001b[0;34m(\u001b[0m\u001b[0;34m*\u001b[0m\u001b[0margs\u001b[0m\u001b[0;34m,\u001b[0m \u001b[0;34m**\u001b[0m\u001b[0mkwargs\u001b[0m\u001b[0;34m)\u001b[0m\u001b[0;34m\u001b[0m\u001b[0;34m\u001b[0m\u001b[0m\n\u001b[0m\u001b[1;32m    297\u001b[0m \u001b[0;34m\u001b[0m\u001b[0m\n\u001b[1;32m    298\u001b[0m         \u001b[0;32mreturn\u001b[0m \u001b[0mwrapper\u001b[0m\u001b[0;34m\u001b[0m\u001b[0;34m\u001b[0m\u001b[0m\n",
      "\u001b[0;32m/Library/Frameworks/Python.framework/Versions/3.9/lib/python3.9/site-packages/pandas/io/excel/_base.py\u001b[0m in \u001b[0;36mread_excel\u001b[0;34m(io, sheet_name, header, names, index_col, usecols, squeeze, dtype, engine, converters, true_values, false_values, skiprows, nrows, na_values, keep_default_na, na_filter, verbose, parse_dates, date_parser, thousands, comment, skipfooter, convert_float, mangle_dupe_cols)\u001b[0m\n\u001b[1;32m    302\u001b[0m \u001b[0;34m\u001b[0m\u001b[0m\n\u001b[1;32m    303\u001b[0m     \u001b[0;32mif\u001b[0m \u001b[0;32mnot\u001b[0m \u001b[0misinstance\u001b[0m\u001b[0;34m(\u001b[0m\u001b[0mio\u001b[0m\u001b[0;34m,\u001b[0m \u001b[0mExcelFile\u001b[0m\u001b[0;34m)\u001b[0m\u001b[0;34m:\u001b[0m\u001b[0;34m\u001b[0m\u001b[0;34m\u001b[0m\u001b[0m\n\u001b[0;32m--> 304\u001b[0;31m         \u001b[0mio\u001b[0m \u001b[0;34m=\u001b[0m \u001b[0mExcelFile\u001b[0m\u001b[0;34m(\u001b[0m\u001b[0mio\u001b[0m\u001b[0;34m,\u001b[0m \u001b[0mengine\u001b[0m\u001b[0;34m=\u001b[0m\u001b[0mengine\u001b[0m\u001b[0;34m)\u001b[0m\u001b[0;34m\u001b[0m\u001b[0;34m\u001b[0m\u001b[0m\n\u001b[0m\u001b[1;32m    305\u001b[0m     \u001b[0;32melif\u001b[0m \u001b[0mengine\u001b[0m \u001b[0;32mand\u001b[0m \u001b[0mengine\u001b[0m \u001b[0;34m!=\u001b[0m \u001b[0mio\u001b[0m\u001b[0;34m.\u001b[0m\u001b[0mengine\u001b[0m\u001b[0;34m:\u001b[0m\u001b[0;34m\u001b[0m\u001b[0;34m\u001b[0m\u001b[0m\n\u001b[1;32m    306\u001b[0m         raise ValueError(\n",
      "\u001b[0;32m/Library/Frameworks/Python.framework/Versions/3.9/lib/python3.9/site-packages/pandas/io/excel/_base.py\u001b[0m in \u001b[0;36m__init__\u001b[0;34m(self, path_or_buffer, engine)\u001b[0m\n\u001b[1;32m    865\u001b[0m         \u001b[0mself\u001b[0m\u001b[0;34m.\u001b[0m\u001b[0m_io\u001b[0m \u001b[0;34m=\u001b[0m \u001b[0mstringify_path\u001b[0m\u001b[0;34m(\u001b[0m\u001b[0mpath_or_buffer\u001b[0m\u001b[0;34m)\u001b[0m\u001b[0;34m\u001b[0m\u001b[0;34m\u001b[0m\u001b[0m\n\u001b[1;32m    866\u001b[0m \u001b[0;34m\u001b[0m\u001b[0m\n\u001b[0;32m--> 867\u001b[0;31m         \u001b[0mself\u001b[0m\u001b[0;34m.\u001b[0m\u001b[0m_reader\u001b[0m \u001b[0;34m=\u001b[0m \u001b[0mself\u001b[0m\u001b[0;34m.\u001b[0m\u001b[0m_engines\u001b[0m\u001b[0;34m[\u001b[0m\u001b[0mengine\u001b[0m\u001b[0;34m]\u001b[0m\u001b[0;34m(\u001b[0m\u001b[0mself\u001b[0m\u001b[0;34m.\u001b[0m\u001b[0m_io\u001b[0m\u001b[0;34m)\u001b[0m\u001b[0;34m\u001b[0m\u001b[0;34m\u001b[0m\u001b[0m\n\u001b[0m\u001b[1;32m    868\u001b[0m \u001b[0;34m\u001b[0m\u001b[0m\n\u001b[1;32m    869\u001b[0m     \u001b[0;32mdef\u001b[0m \u001b[0m__fspath__\u001b[0m\u001b[0;34m(\u001b[0m\u001b[0mself\u001b[0m\u001b[0;34m)\u001b[0m\u001b[0;34m:\u001b[0m\u001b[0;34m\u001b[0m\u001b[0;34m\u001b[0m\u001b[0m\n",
      "\u001b[0;32m/Library/Frameworks/Python.framework/Versions/3.9/lib/python3.9/site-packages/pandas/io/excel/_xlrd.py\u001b[0m in \u001b[0;36m__init__\u001b[0;34m(self, filepath_or_buffer)\u001b[0m\n\u001b[1;32m     19\u001b[0m         \"\"\"\n\u001b[1;32m     20\u001b[0m         \u001b[0merr_msg\u001b[0m \u001b[0;34m=\u001b[0m \u001b[0;34m\"Install xlrd >= 1.0.0 for Excel support\"\u001b[0m\u001b[0;34m\u001b[0m\u001b[0;34m\u001b[0m\u001b[0m\n\u001b[0;32m---> 21\u001b[0;31m         \u001b[0mimport_optional_dependency\u001b[0m\u001b[0;34m(\u001b[0m\u001b[0;34m\"xlrd\"\u001b[0m\u001b[0;34m,\u001b[0m \u001b[0mextra\u001b[0m\u001b[0;34m=\u001b[0m\u001b[0merr_msg\u001b[0m\u001b[0;34m)\u001b[0m\u001b[0;34m\u001b[0m\u001b[0;34m\u001b[0m\u001b[0m\n\u001b[0m\u001b[1;32m     22\u001b[0m         \u001b[0msuper\u001b[0m\u001b[0;34m(\u001b[0m\u001b[0;34m)\u001b[0m\u001b[0;34m.\u001b[0m\u001b[0m__init__\u001b[0m\u001b[0;34m(\u001b[0m\u001b[0mfilepath_or_buffer\u001b[0m\u001b[0;34m)\u001b[0m\u001b[0;34m\u001b[0m\u001b[0;34m\u001b[0m\u001b[0m\n\u001b[1;32m     23\u001b[0m \u001b[0;34m\u001b[0m\u001b[0m\n",
      "\u001b[0;32m/Library/Frameworks/Python.framework/Versions/3.9/lib/python3.9/site-packages/pandas/compat/_optional.py\u001b[0m in \u001b[0;36mimport_optional_dependency\u001b[0;34m(name, extra, raise_on_missing, on_version)\u001b[0m\n\u001b[1;32m    108\u001b[0m     \u001b[0;32mexcept\u001b[0m \u001b[0mImportError\u001b[0m\u001b[0;34m:\u001b[0m\u001b[0;34m\u001b[0m\u001b[0;34m\u001b[0m\u001b[0m\n\u001b[1;32m    109\u001b[0m         \u001b[0;32mif\u001b[0m \u001b[0mraise_on_missing\u001b[0m\u001b[0;34m:\u001b[0m\u001b[0;34m\u001b[0m\u001b[0;34m\u001b[0m\u001b[0m\n\u001b[0;32m--> 110\u001b[0;31m             \u001b[0;32mraise\u001b[0m \u001b[0mImportError\u001b[0m\u001b[0;34m(\u001b[0m\u001b[0mmsg\u001b[0m\u001b[0;34m)\u001b[0m \u001b[0;32mfrom\u001b[0m \u001b[0;32mNone\u001b[0m\u001b[0;34m\u001b[0m\u001b[0;34m\u001b[0m\u001b[0m\n\u001b[0m\u001b[1;32m    111\u001b[0m         \u001b[0;32melse\u001b[0m\u001b[0;34m:\u001b[0m\u001b[0;34m\u001b[0m\u001b[0;34m\u001b[0m\u001b[0m\n\u001b[1;32m    112\u001b[0m             \u001b[0;32mreturn\u001b[0m \u001b[0;32mNone\u001b[0m\u001b[0;34m\u001b[0m\u001b[0;34m\u001b[0m\u001b[0m\n",
      "\u001b[0;31mImportError\u001b[0m: Missing optional dependency 'xlrd'. Install xlrd >= 1.0.0 for Excel support Use pip or conda to install xlrd."
     ]
    }
   ],
   "source": [
    "url_JobType2010 = \"https://github.com/tracy3057/STAT5702_NYC_Employment_Analysis/raw/main/RawData/employment/employmentByJobType/JobType_2010.xlsx\"\n",
    "url_JobType2011 = \"https://github.com/tracy3057/STAT5702_NYC_Employment_Analysis/raw/main/RawData/employment/employmentByJobType/JobType_2011.xlsx\"\n",
    "url_JobType2012 = \"https://github.com/tracy3057/STAT5702_NYC_Employment_Analysis/raw/main/RawData/employment/employmentByJobType/JobType_2012.xlsx\"\n",
    "url_JobType2013 = \"https://github.com/tracy3057/STAT5702_NYC_Employment_Analysis/raw/main/RawData/employment/employmentByJobType/JobType_2013.xlsx\"\n",
    "url_JobType2014 = \"https://github.com/tracy3057/STAT5702_NYC_Employment_Analysis/raw/main/RawData/employment/employmentByJobType/JobType_2014.xlsx\"\n",
    "url_JobType2015 = \"https://github.com/tracy3057/STAT5702_NYC_Employment_Analysis/raw/main/RawData/employment/employmentByJobType/JobType_2015.xlsx\"\n",
    "url_JobType2016 = \"https://github.com/tracy3057/STAT5702_NYC_Employment_Analysis/raw/main/RawData/employment/employmentByJobType/JobType_2016.xlsx\"\n",
    "url_JobType2017 = \"https://github.com/tracy3057/STAT5702_NYC_Employment_Analysis/raw/main/RawData/employment/employmentByJobType/JobType_2017.xlsx\"\n",
    "url_JobType2018 = \"https://github.com/tracy3057/STAT5702_NYC_Employment_Analysis/raw/main/RawData/employment/employmentByJobType/JobType_2018.xlsx\"\n",
    "url_JobType2019 = \"https://github.com/tracy3057/STAT5702_NYC_Employment_Analysis/raw/main/RawData/employment/employmentByJobType/JobType_2019.xlsx\"\n",
    "JobType_2010 = pd.read_excel(url_JobType2010,index_col=0)\n",
    "JobType_2011 = pd.read_excel(url_JobType2011,index_col=0)\n",
    "JobType_2012 = pd.read_excel(url_JobType2012,index_col=0)\n",
    "JobType_2013 = pd.read_excel(url_JobType2013,index_col=0)\n",
    "JobType_2014 = pd.read_excel(url_JobType2014,index_col=0)\n",
    "JobType_2015 = pd.read_excel(url_JobType2015,index_col=0)\n",
    "JobType_2016 = pd.read_excel(url_JobType2016,index_col=0)\n",
    "JobType_2017 = pd.read_excel(url_JobType2017,index_col=0)\n",
    "JobType_2018 = pd.read_excel(url_JobType2018,index_col=0)\n",
    "JobType_2019 = pd.read_excel(url_JobType2019,index_col=0)\n",
    "JobType_2019"
   ]
  },
  {
   "cell_type": "code",
   "execution_count": null,
   "metadata": {},
   "outputs": [],
   "source": [
    "JobType_2019.index"
   ]
  },
  {
   "cell_type": "code",
   "execution_count": null,
   "metadata": {},
   "outputs": [],
   "source": [
    "JobType_2010 = JobType_2010[[\"New York / Total / Estimate\"]]\n",
    "JobType_2010[\"year\"] = JobType_2010.apply(lambda x: 2010, axis=1)\n",
    "JobType_2011 = JobType_2011[[\"New York / Total / Estimate\"]]\n",
    "JobType_2011[\"year\"] = JobType_2011.apply(lambda x: 2011, axis=1)\n",
    "JobType_2012 = JobType_2012[[\"New York / Total / Estimate\"]]\n",
    "JobType_2012[\"year\"] = JobType_2012.apply(lambda x: 2012, axis=1)\n",
    "JobType_2013 = JobType_2013[[\"New York / Total / Estimate\"]]\n",
    "JobType_2013[\"year\"] = JobType_2013.apply(lambda x: 2013, axis=1)\n",
    "JobType_2014 = JobType_2014[[\"New York / Total / Estimate\"]]\n",
    "JobType_2014[\"year\"] = JobType_2014.apply(lambda x: 2014, axis=1)\n",
    "JobType_2015 = JobType_2015[[\"New York / Total / Estimate\"]]\n",
    "JobType_2015[\"year\"] = JobType_2015.apply(lambda x: 2015, axis=1)\n",
    "JobType_2016 = JobType_2016[[\"New York / Total / Estimate\"]]\n",
    "JobType_2016[\"year\"] = JobType_2016.apply(lambda x: 2016, axis=1)\n",
    "JobType_2017 = JobType_2017[[\"New York / Total / Estimate\"]]\n",
    "JobType_2017[\"year\"] = JobType_2017.apply(lambda x: 2017, axis=1)\n",
    "JobType_2018 = JobType_2018[[\"New York / Total / Estimate\"]]\n",
    "JobType_2018[\"year\"] = JobType_2018.apply(lambda x: 2018, axis=1)\n",
    "JobType_2019 = JobType_2019[[\"New York / Total / Estimate\"]]\n",
    "JobType_2019[\"year\"] = JobType_2019.apply(lambda x: 2019, axis=1)\n",
    "frames = [JobType_2010,JobType_2011,JobType_2012,JobType_2013,JobType_2014,JobType_2015,JobType_2016,JobType_2017,JobType_2018,JobType_2019]\n",
    "JobType = pd.concat(frames)\n",
    "JobType = JobType[(JobType.index != \"PERCENT ALLOCATED\") & (JobType.index != \"PERCENT IMPUTED\") & (JobType.index != \"Industry\")]\n",
    "JobType = JobType.rename(columns={\"New York / Total / Estimate\":\"Total\"})\n",
    "JobType"
   ]
  },
  {
   "cell_type": "code",
   "execution_count": null,
   "metadata": {},
   "outputs": [],
   "source": [
    "JobType.to_csv(r\"C:\\Users\\Administrator\\Documents\\STAT5702_NYC_Employment_Analysis\\DataPreprocessing\\Data\\employment\\JobType.csv\")"
   ]
  },
  {
   "cell_type": "code",
   "execution_count": null,
   "metadata": {},
   "outputs": [],
   "source": [
    "url_employStatus2010 = \"https://github.com/tracy3057/STAT5702_NYC_Employment_Analysis/raw/main/RawData/employment/employmentStatus/employmentStatus_2010.xlsx\"\n",
    "url_employStatus2011 = \"https://github.com/tracy3057/STAT5702_NYC_Employment_Analysis/raw/main/RawData/employment/employmentStatus/employmentStatus_2011.xlsx\"\n",
    "url_employStatus2012 = \"https://github.com/tracy3057/STAT5702_NYC_Employment_Analysis/raw/main/RawData/employment/employmentStatus/employmentStatus_2012.xlsx\"\n",
    "url_employStatus2013 = \"https://github.com/tracy3057/STAT5702_NYC_Employment_Analysis/raw/main/RawData/employment/employmentStatus/employmentStatus_2013.xlsx\"\n",
    "url_employStatus2014 = \"https://github.com/tracy3057/STAT5702_NYC_Employment_Analysis/raw/main/RawData/employment/employmentStatus/employmentStatus_2014.xlsx\"\n",
    "url_employStatus2015 = \"https://github.com/tracy3057/STAT5702_NYC_Employment_Analysis/raw/main/RawData/employment/employmentStatus/employmentStatus_2015.xlsx\"\n",
    "url_employStatus2016 = \"https://github.com/tracy3057/STAT5702_NYC_Employment_Analysis/raw/main/RawData/employment/employmentStatus/employmentStatus_2016.xlsx\"\n",
    "url_employStatus2017 = \"https://github.com/tracy3057/STAT5702_NYC_Employment_Analysis/raw/main/RawData/employment/employmentStatus/employmentStatus_2017.xlsx\"\n",
    "url_employStatus2018 = \"https://github.com/tracy3057/STAT5702_NYC_Employment_Analysis/raw/main/RawData/employment/employmentStatus/employmentStatus_2018.xlsx\"\n",
    "url_employStatus2019 = \"https://github.com/tracy3057/STAT5702_NYC_Employment_Analysis/raw/main/RawData/employment/employmentStatus/employmentStatus_2019.xlsx\"\n",
    "\n",
    "employStatus_2010 = pd.read_excel(url_employStatus2010,index_col=0)\n",
    "employStatus_2011 = pd.read_excel(url_employStatus2011,index_col=0)\n",
    "employStatus_2012 = pd.read_excel(url_employStatus2012,index_col=0)\n",
    "employStatus_2013 = pd.read_excel(url_employStatus2013,index_col=0)\n",
    "employStatus_2014 = pd.read_excel(url_employStatus2014,index_col=0)\n",
    "employStatus_2015 = pd.read_excel(url_employStatus2015,index_col=0)\n",
    "employStatus_2016 = pd.read_excel(url_employStatus2016,index_col=0)\n",
    "employStatus_2017 = pd.read_excel(url_employStatus2017,index_col=0)\n",
    "employStatus_2018 = pd.read_excel(url_employStatus2018,index_col=0)\n",
    "employStatus_2019 = pd.read_excel(url_employStatus2019,index_col=0)\n",
    "\n",
    "employStatus_2010"
   ]
  },
  {
   "cell_type": "code",
   "execution_count": null,
   "metadata": {},
   "outputs": [],
   "source": [
    "employStatus_2015.iloc[6,1]"
   ]
  },
  {
   "cell_type": "code",
   "execution_count": null,
   "metadata": {},
   "outputs": [],
   "source": [
    "employStatus_2010"
   ]
  },
  {
   "cell_type": "code",
   "execution_count": null,
   "metadata": {},
   "outputs": [],
   "source": [
    "employStatus_2010 = employStatus_2010[[\"New York / Total / Estimate\",\"New York / Unemployment rate / Estimate\"]]\n",
    "employStatus_2010[\"year\"] = employStatus_2010.apply(lambda x: 2010, axis=1)\n",
    "employAGE_2010 = employStatus_2010.iloc[[0,2,3,4,5,6,7,8]]\n",
    "\n",
    "employStatus_2011 = employStatus_2011[[\"New York / Total / Estimate\",\"New York / Unemployment rate / Estimate\"]]\n",
    "employStatus_2011[\"year\"] = employStatus_2011.apply(lambda x: 2011, axis=1)\n",
    "employAGE_2011 = employStatus_2011.iloc[[0,2,3,4,5,6,7,8]]\n",
    "\n",
    "employStatus_2012 = employStatus_2012[[\"New York / Total / Estimate\",\"New York / Unemployment rate / Estimate\"]]\n",
    "employStatus_2012[\"year\"] = employStatus_2012.apply(lambda x: 2012, axis=1)\n",
    "employAGE_2012 = employStatus_2012.iloc[[0,2,3,4,5,6,7,8]]\n",
    "\n",
    "employStatus_2013 = employStatus_2013[[\"New York / Total / Estimate\",\"New York / Unemployment rate / Estimate\"]]\n",
    "employStatus_2013[\"year\"] = employStatus_2013.apply(lambda x: 2013, axis=1)\n",
    "employAGE_2013 = employStatus_2013.iloc[[0,2,3,4,5,6,7,8]]\n",
    "\n",
    "employStatus_2014 = employStatus_2014[[\"New York / Total / Estimate\",\"New York / Unemployment rate / Estimate\"]]\n",
    "employStatus_2014[\"year\"] = employStatus_2014.apply(lambda x: 2014, axis=1)\n",
    "employAGE_2014 = employStatus_2014.iloc[[0,2,3,4,5,6,7,8]]\n",
    "\n",
    "employStatus_2015 = employStatus_2015[[\"New York / Total / Estimate\",\"New York / Unemployment rate / Estimate\"]]\n",
    "employStatus_2015[\"year\"] = employStatus_2015.apply(lambda x: 2015, axis=1)\n",
    "employAGE_2015 = employStatus_2015.iloc[[0,2,3,4,5,6,7,8,9,10,11]]\n",
    "employAGE_2015.loc['25 to 44 years'] = [employStatus_2015.iloc[4,0]+employStatus_2015.iloc[5,0]+employStatus_2015.iloc[6,0],\n",
    "                            employStatus_2015.iloc[4,1]+employStatus_2015.iloc[5,1]+employStatus_2015.iloc[6,1],\n",
    "                            2015]\n",
    "employAGE_2015.loc['55 to 64 years'] = [employStatus_2015.iloc[6,0]+employStatus_2015.iloc[7,0],\n",
    "                            employStatus_2015.iloc[6,1]+employStatus_2015.iloc[7,1],\n",
    "                            2015]\n",
    "employAGE_2015 = employAGE_2015.drop([\"25 to 29 years\",\"30 to 34 years\",\"35 to 44 years\",\"55 to 59 years\",\"60 to 64 years\"])\n",
    "\n",
    "\n",
    "employStatus_2016 = employStatus_2016[[\"New York / Total / Estimate\",\"New York / Unemployment rate / Estimate\"]]\n",
    "employStatus_2016[\"year\"] = employStatus_2016.apply(lambda x: 2016, axis=1)\n",
    "employAGE_2016 = employStatus_2016.iloc[[0,2,3,4,5,6,7,8,9,10,11]]\n",
    "employAGE_2016.loc['25 to 44 years'] = [employStatus_2016.iloc[4,0]+employStatus_2016.iloc[5,0]+employStatus_2016.iloc[6,0],\n",
    "                            employStatus_2016.iloc[4,1]+employStatus_2016.iloc[5,1]+employStatus_2016.iloc[6,1],\n",
    "                            2016]\n",
    "employAGE_2016.loc['55 to 64 years'] = [employStatus_2016.iloc[6,0]+employStatus_2016.iloc[7,0],\n",
    "                            employStatus_2016.iloc[6,1]+employStatus_2016.iloc[7,1],\n",
    "                            2016]\n",
    "employAGE_2016 = employAGE_2016.drop([\"25 to 29 years\",\"30 to 34 years\",\"35 to 44 years\",\"55 to 59 years\",\"60 to 64 years\"])\n",
    "\n",
    "employStatus_2017 = employStatus_2017[[\"New York / Total / Estimate\",\"New York / Unemployment rate / Estimate\"]]\n",
    "employStatus_2017[\"year\"] = employStatus_2017.apply(lambda x: 2017, axis=1)\n",
    "employAGE_2017 = employStatus_2017.iloc[[0,2,3,4,5,6,7,8,9,10,11]]\n",
    "employAGE_2017.loc['25 to 44 years'] = [employStatus_2017.iloc[4,0]+employStatus_2017.iloc[5,0]+employStatus_2017.iloc[6,0],\n",
    "                            employStatus_2017.iloc[4,1]+employStatus_2017.iloc[5,1]+employStatus_2017.iloc[6,1],\n",
    "                            2017]\n",
    "employAGE_2017.loc['55 to 64 years'] = [employStatus_2017.iloc[6,0]+employStatus_2017.iloc[7,0],\n",
    "                            employStatus_2017.iloc[6,1]+employStatus_2017.iloc[7,1],\n",
    "                            2017]\n",
    "employAGE_2017 = employAGE_2017.drop([\"25 to 29 years\",\"30 to 34 years\",\"35 to 44 years\",\"55 to 59 years\",\"60 to 64 years\"])\n",
    "\n",
    "\n",
    "employStatus_2018 = employStatus_2018[[\"New York / Total / Estimate\",\"New York / Unemployment rate / Estimate\"]]\n",
    "employStatus_2018[\"year\"] = employStatus_2018.apply(lambda x: 2018, axis=1)\n",
    "employAGE_2018 = employStatus_2018.iloc[[0,2,3,4,5,6,7,8,9,10,11]]\n",
    "employAGE_2018.loc['25 to 44 years'] = [employStatus_2018.iloc[4,0]+employStatus_2018.iloc[5,0]+employStatus_2018.iloc[6,0],\n",
    "                            employStatus_2018.iloc[4,1]+employStatus_2018.iloc[5,1]+employStatus_2018.iloc[6,1],\n",
    "                            2018]\n",
    "employAGE_2018.loc['55 to 64 years'] = [employStatus_2018.iloc[6,0]+employStatus_2018.iloc[7,0],\n",
    "                            employStatus_2018.iloc[6,1]+employStatus_2018.iloc[7,1],\n",
    "                            2018]\n",
    "employAGE_2018 = employAGE_2018.drop([\"25 to 29 years\",\"30 to 34 years\",\"35 to 44 years\",\"55 to 59 years\",\"60 to 64 years\"])\n",
    "\n",
    "\n",
    "\n",
    "employStatus_2019 = employStatus_2019[[\"New York / Total / Estimate\",\"New York / Unemployment rate / Estimate\"]]\n",
    "employStatus_2019[\"year\"] = employStatus_2019.apply(lambda x: 2019, axis=1)\n",
    "employAGE_2019 = employStatus_2019.iloc[[0,2,3,4,5,6,7,8,9,10,11]]\n",
    "employAGE_2019.loc['25 to 44 years'] = [employStatus_2019.iloc[4,0]+employStatus_2019.iloc[5,0]+employStatus_2019.iloc[6,0],\n",
    "                            employStatus_2019.iloc[4,1]+employStatus_2019.iloc[5,1]+employStatus_2019.iloc[6,1],\n",
    "                            2019]\n",
    "employAGE_2019.loc['55 to 64 years'] = [employStatus_2019.iloc[6,0]+employStatus_2019.iloc[7,0],\n",
    "                            employStatus_2019.iloc[6,1]+employStatus_2019.iloc[7,1],\n",
    "                            2019]\n",
    "employAGE_2019 = employAGE_2019.drop([\"25 to 29 years\",\"30 to 34 years\",\"35 to 44 years\",\"55 to 59 years\",\"60 to 64 years\"])\n",
    "\n",
    "frames = [employAGE_2010,employAGE_2011,employAGE_2012,employAGE_2013,employAGE_2014,employAGE_2015,employAGE_2016,employAGE_2017,employAGE_2018,employAGE_2019]\n",
    "employAGE = pd.concat(frames)\n",
    "employAGE = employAGE.rename(columns={\"New York / Total / Estimate\":\"Total\",\"New York / Unemployment rate / Estimate\":\"UnemploymentRate\"})\n",
    "employAGE_2015\n"
   ]
  },
  {
   "cell_type": "code",
   "execution_count": null,
   "metadata": {},
   "outputs": [],
   "source": [
    "employStatus_2015.iloc[4,1]"
   ]
  },
  {
   "cell_type": "code",
   "execution_count": null,
   "metadata": {},
   "outputs": [],
   "source": [
    "employAGE.to_csv(r\"C:\\Users\\Administrator\\Documents\\STAT5702_NYC_Employment_Analysis\\DataPreprocessing\\Data\\employment\\employmentByAge.csv\")"
   ]
  },
  {
   "cell_type": "code",
   "execution_count": null,
   "metadata": {},
   "outputs": [],
   "source": [
    "employRACE_2010 = employStatus_2010.iloc[[11,12,13,14,16,17,18,19]]\n",
    "\n",
    "employRACE_2011 = employStatus_2011.iloc[[11,12,13,14,16,17,18,19]]\n",
    "\n",
    "employRACE_2012 = employStatus_2012.iloc[[11,12,13,14,16,17,18,19]]\n",
    "\n",
    "employRACE_2013 = employStatus_2013.iloc[[11,12,13,14,16,17,18,19]]\n",
    "\n",
    "employRACE_2014 = employStatus_2014.iloc[[11,12,13,14,16,17,18,19]]\n",
    "\n",
    "employRACE_2015 = employStatus_2015.iloc[[13,14,15,16,18,19,20,21]]\n",
    "\n",
    "employRACE_2016 = employStatus_2016.iloc[[13,14,15,16,18,19,20,21]]\n",
    "\n",
    "employRACE_2017 = employStatus_2017.iloc[[13,14,15,16,18,19,20,21]]\n",
    "\n",
    "employRACE_2018 = employStatus_2018.iloc[[13,14,15,16,18,19,20,21]]\n",
    "\n",
    "employRACE_2019 = employStatus_2019.iloc[[13,14,15,16,18,19,20,21]]\n",
    "\n",
    "frames = [employRACE_2010,employRACE_2011,employRACE_2012,employRACE_2013,employRACE_2014,employRACE_2015,employRACE_2016,employRACE_2017,employRACE_2018,employRACE_2019]\n",
    "employRACE = pd.concat(frames)\n",
    "employRACE = employRACE.rename(columns={\"New York / Total / Estimate\":\"Total\",\"New York / Unemployment rate / Estimate\":\"UnemploymentRate\"})\n",
    "\n",
    "employRACE = employRACE.replace(to_replace='Asian alone', value='Asian')\n",
    "employRACE = employRACE.replace(to_replace='Some other race alone', value='Some other race')\n",
    "employRACE = employRACE.replace(to_replace='American Indian and Alaska Native alone', value='American Indian and Alaska Native')\n",
    "employRACE = employRACE.replace(to_replace='Black or African American alone', value='Black or African American')\n",
    "employRACE = employRACE.replace(to_replace='White alone', value='White')\n",
    "employRACE"
   ]
  },
  {
   "cell_type": "code",
   "execution_count": null,
   "metadata": {},
   "outputs": [],
   "source": [
    "employRACE.to_csv(r\"C:\\Users\\Administrator\\Documents\\STAT5702_NYC_Employment_Analysis\\DataPreprocessing\\Data\\employment\\employmentByRACE.csv\")"
   ]
  },
  {
   "cell_type": "code",
   "execution_count": null,
   "metadata": {},
   "outputs": [],
   "source": [
    "employEDUCATION_2010 = employStatus_2010.iloc[[31,32,33,34]]\n",
    "\n",
    "employEDUCATION_2011 = employStatus_2011.iloc[[31,32,33,34]]\n",
    "\n",
    "employEDUCATION_2012 = employStatus_2012.iloc[[31,32,33,34]]\n",
    "\n",
    "employEDUCATION_2013 = employStatus_2013.iloc[[31,32,33,34]]\n",
    "\n",
    "employEDUCATION_2014 = employStatus_2014.iloc[[31,32,33,34]]\n",
    "\n",
    "employEDUCATION_2015 = employStatus_2015.iloc[[37,38,39,40]]\n",
    "\n",
    "employEDUCATION_2016 = employStatus_2016.iloc[[37,38,39,40]]\n",
    "\n",
    "employEDUCATION_2017 = employStatus_2017.iloc[[37,38,39,40]]\n",
    "\n",
    "employEDUCATION_2018 = employStatus_2018.iloc[[37,38,39,40]]\n",
    "\n",
    "employEDUCATION_2019 = employStatus_2019.iloc[[37,38,39,40]]\n",
    "\n",
    "frames = [employEDUCATION_2010,employEDUCATION_2011,employEDUCATION_2012,employEDUCATION_2013,employEDUCATION_2014,employEDUCATION_2015,employEDUCATION_2016,employEDUCATION_2017,employEDUCATION_2018,employEDUCATION_2019]\n",
    "employEDUCATION = pd.concat(frames)\n",
    "employEDUCATION = employEDUCATION.rename(columns={\"New York / Total / Estimate\":\"Total\",\"New York / Unemployment rate / Estimate\":\"UnemploymentRate\"})\n",
    "employEDUCATION"
   ]
  },
  {
   "cell_type": "code",
   "execution_count": null,
   "metadata": {},
   "outputs": [],
   "source": [
    "employEDUCATION.to_csv(r\"C:\\Users\\Administrator\\Documents\\STAT5702_NYC_Employment_Analysis\\DataPreprocessing\\Data\\employment\\employEDUCATION.csv\")"
   ]
  },
  {
   "cell_type": "code",
   "execution_count": null,
   "metadata": {},
   "outputs": [],
   "source": [
    "employBelowPoverty_2010 = employStatus_2010.iloc[[26]]\n",
    "\n",
    "employBelowPoverty_2011 = employStatus_2011.iloc[[26]]\n",
    "\n",
    "employBelowPoverty_2012 = employStatus_2012.iloc[[26]]\n",
    "\n",
    "employBelowPoverty_2013 = employStatus_2013.iloc[[26]]\n",
    "\n",
    "employBelowPoverty_2014 = employStatus_2014.iloc[[26]]\n",
    "\n",
    "employBelowPoverty_2015 = employStatus_2015.iloc[[31]]\n",
    "\n",
    "employBelowPoverty_2016 = employStatus_2016.iloc[[31]]\n",
    "\n",
    "employBelowPoverty_2017 = employStatus_2017.iloc[[31]]\n",
    "\n",
    "employBelowPoverty_2018 = employStatus_2018.iloc[[31]]\n",
    "\n",
    "employBelowPoverty_2019 = employStatus_2019.iloc[[31]]\n",
    "\n",
    "frames = [employBelowPoverty_2010,employBelowPoverty_2011,employBelowPoverty_2012,employBelowPoverty_2013,employBelowPoverty_2014,employBelowPoverty_2015,employBelowPoverty_2016,employBelowPoverty_2017,employBelowPoverty_2018,employBelowPoverty_2019]\n",
    "employBelowPoverty = pd.concat(frames)\n",
    "employBelowPoverty = employBelowPoverty.rename(columns={\"New York / Total / Estimate\":\"Total\",\"New York / Unemployment rate / Estimate\":\"UnemploymentRate\"})\n",
    "employBelowPoverty"
   ]
  },
  {
   "cell_type": "code",
   "execution_count": null,
   "metadata": {},
   "outputs": [],
   "source": [
    "employBelowPoverty.to_csv(r\"C:\\Users\\Administrator\\Documents\\STAT5702_NYC_Employment_Analysis\\DataPreprocessing\\Data\\employment\\employPorverty.csv\")"
   ]
  },
  {
   "cell_type": "code",
   "execution_count": null,
   "metadata": {},
   "outputs": [],
   "source": [
    "employSex_2010 = employStatus_2010.iloc[[22,23]]\n",
    "\n",
    "employSex_2011 = employStatus_2011.iloc[[22,23]]\n",
    "\n",
    "employSex_2012 = employStatus_2012.iloc[[22,23]]\n",
    "\n",
    "employSex_2013 = employStatus_2013.iloc[[22,23]]\n",
    "\n",
    "employSex_2014 = employStatus_2014.iloc[[22,23]]\n",
    "\n",
    "employSex_2015 = employStatus_2015.iloc[[24,25]]\n",
    "\n",
    "employSex_2016 = employStatus_2016.iloc[[24,25]]\n",
    "\n",
    "employSex_2017 = employStatus_2017.iloc[[24,25]]\n",
    "\n",
    "employSex_2018 = employStatus_2018.iloc[[24,25]]\n",
    "\n",
    "employSex_2019 = employStatus_2019.iloc[[24,25]]\n",
    "\n",
    "frames = [employSex_2010,employSex_2011,employSex_2012,employSex_2013,employSex_2014,employSex_2015,employSex_2016,employSex_2017,employSex_2018,employSex_2019]\n",
    "employSex = pd.concat(frames)\n",
    "employSex = employSex.rename(columns={\"New York / Total / Estimate\":\"Total\",\"New York / Unemployment rate / Estimate\":\"UnemploymentRate\"})\n",
    "employSex"
   ]
  },
  {
   "cell_type": "code",
   "execution_count": null,
   "metadata": {},
   "outputs": [],
   "source": [
    "employSex.to_csv(r\"C:\\Users\\Administrator\\Documents\\STAT5702_NYC_Employment_Analysis\\DataPreprocessing\\Data\\employment\\employSex.csv\")"
   ]
  },
  {
   "cell_type": "code",
   "execution_count": null,
   "metadata": {},
   "outputs": [],
   "source": [
    "employDisability_2010 = employStatus_2010.iloc[[28]]\n",
    "\n",
    "employDisability_2011 = employStatus_2011.iloc[[28]]\n",
    "\n",
    "employDisability_2012 = employStatus_2012.iloc[[28]]\n",
    "\n",
    "employDisability_2013 = employStatus_2013.iloc[[28]]\n",
    "\n",
    "employDisability_2014 = employStatus_2014.iloc[[28]]\n",
    "\n",
    "employDisability_2015 = employStatus_2015.iloc[[34]]\n",
    "\n",
    "employDisability_2016 = employStatus_2016.iloc[[34]]\n",
    "\n",
    "employDisability_2017 = employStatus_2017.iloc[[34]]\n",
    "\n",
    "employDisability_2018 = employStatus_2018.iloc[[34]]\n",
    "\n",
    "employDisability_2019 = employStatus_2019.iloc[[34]]\n",
    "\n",
    "frames = [employDisability_2010,employDisability_2011,employDisability_2012,employDisability_2013,employDisability_2014,employDisability_2015,employDisability_2016,employDisability_2017,employDisability_2018,employDisability_2019]\n",
    "employDisability = pd.concat(frames)\n",
    "employDisability = employDisability.rename(columns={\"New York / Total / Estimate\":\"Total\",\"New York / Unemployment rate / Estimate\":\"UnemploymentRate\"})\n",
    "employDisability"
   ]
  },
  {
   "cell_type": "code",
   "execution_count": null,
   "metadata": {},
   "outputs": [],
   "source": [
    "employDisability.to_csv(r\"C:\\Users\\Administrator\\Documents\\STAT5702_NYC_Employment_Analysis\\DataPreprocessing\\Data\\employment\\employDisability.csv\")"
   ]
  },
  {
   "cell_type": "code",
   "execution_count": null,
   "metadata": {},
   "outputs": [],
   "source": [
    "url_NYCpopulation = \"https://github.com/tracy3057/STAT5702_NYC_Employment_Analysis/raw/main/DataPreprocessing/Data/population/NYCpopulation.csv\"\n",
    "NYCpopulation = pd.read_csv(url_NYCpopulation,index_col=0)"
   ]
  },
  {
   "cell_type": "code",
   "execution_count": null,
   "metadata": {},
   "outputs": [],
   "source": [
    "NYCpopulation"
   ]
  },
  {
   "cell_type": "code",
   "execution_count": null,
   "metadata": {},
   "outputs": [],
   "source": [
    "url_economic = \"https://github.com/tracy3057/STAT5702_NYC_Employment_Analysis/raw/main/RawData/ecomonic/economicGrowth.csv\"\n",
    "economic = pd.read_csv(url_economic,index_col=0)\n",
    "economic"
   ]
  },
  {
   "cell_type": "code",
   "execution_count": null,
   "metadata": {},
   "outputs": [],
   "source": [
    "economic = economic.rename(columns={\"Unnamed: 0\":\"year\",\n",
    "                                   \"Payroll-Jobs Growth, SAAR - NYC\":\"NYCPayrollGrowth\",\n",
    "                                   \"Payroll-Jobs Growth, SAAR - USA\":\"USAPayrollGrowth\",\n",
    "                                   \"PIT Withheld, Growth, NSA - NYC\":\"NYCPITGrowth\",\n",
    "                                   \"PIT Withheld, Growth, NSA - USA\":\"USAPITTGrowth\",\n",
    "                                   \"Inflation Rate, NSA - NYC\":\"NYCIflation\",\n",
    "                                   \"Inflation Rate, NSA - USA\":\"USAIflation\",\n",
    "                                   \"Unemployment Rate, SA - NYC\":\"NYCUnemployment\",\n",
    "                                   \"Unemployment Rate, SA - USA\":\"USAUnemployment\"})\n",
    "economic = economic.drop(['GCP (NYC)', 'GDP (USA)'], axis=1)\n",
    "economic = economic.fillna(0)\n",
    "economic"
   ]
  },
  {
   "cell_type": "code",
   "execution_count": null,
   "metadata": {},
   "outputs": [],
   "source": [
    "economic.to_csv(r\"C:\\Users\\Administrator\\Documents\\STAT5702_NYC_Employment_Analysis\\DataPreprocessing\\Data\\economic\\NewEconomicGrowth.csv\")"
   ]
  },
  {
   "cell_type": "code",
   "execution_count": null,
   "metadata": {},
   "outputs": [],
   "source": [
    "url = 'https://github.com/tracy3057/STAT5702_NYC_Employment_Analysis/raw/main/RawData/ecomonic/gdp.xls'\n",
    "USAgdp = pd.read_excel(url,index_col=0)\n",
    "USAgdp"
   ]
  },
  {
   "cell_type": "code",
   "execution_count": null,
   "metadata": {},
   "outputs": [],
   "source": [
    "header_row = 2\n",
    "\n",
    "USAgdp.columns = USAgdp.iloc[header_row]\n",
    "\n",
    "USAgdp = USAgdp[USAgdp.index == \"United States\"]\n",
    "USAgdp = USAgdp.drop(['Indicator Name','Indicator Code'], axis=1)\n",
    "USAgdp"
   ]
  },
  {
   "cell_type": "code",
   "execution_count": null,
   "metadata": {},
   "outputs": [],
   "source": [
    "USAgdp.to_csv(r\"C:\\Users\\Administrator\\Documents\\STAT5702_NYC_Employment_Analysis\\DataPreprocessing\\Data\\economic\\USAgdp.csv\")"
   ]
  }
 ],
 "metadata": {
  "kernelspec": {
   "display_name": "Python 3",
   "language": "python",
   "name": "python3"
  },
  "language_info": {
   "codemirror_mode": {
    "name": "ipython",
    "version": 3
   },
   "file_extension": ".py",
   "mimetype": "text/x-python",
   "name": "python",
   "nbconvert_exporter": "python",
   "pygments_lexer": "ipython3",
   "version": "3.9.0"
  }
 },
 "nbformat": 4,
 "nbformat_minor": 2
}
