{
 "cells": [
  {
   "cell_type": "code",
   "execution_count": 3,
   "metadata": {},
   "outputs": [],
   "source": [
    "import pandas as pd\n",
    "import numpy as np\n",
    "import os"
   ]
  },
  {
   "cell_type": "code",
   "execution_count": 4,
   "metadata": {},
   "outputs": [],
   "source": [
    "#Data = pd.read_csv('C:/Users/Administrator/Desktop/columbia/5702/STAT5702_NYC_Employment_Analysis/RawData/DetailedAnalysisOnSex+Occupation+Race/race.csv') #TracyPath\n",
    "Data = pd.read_csv('/Users/tracy/Desktop/STAT5702_NYC_Employment_Analysis/DataPreprocessing/Data/NumEmp/numemp_01.csv')"
   ]
  },
  {
   "cell_type": "code",
   "execution_count": 5,
   "metadata": {},
   "outputs": [],
   "source": [
    "cols = ['Unnamed: 0', 'Label', 'Bronx County, New York', 'Kings County, New York', 'New York County, New York', 'Queens County, New York', 'Richmond County, New York', 'race', 'year']\n",
    "\n",
    "try:\n",
    "    Data = Data[cols]\n",
    "    Data = Data.drop(columns = 'Unnamed: 0')\n",
    "except KeyError:\n",
    "    pass\n",
    "\n",
    "Data.fillna(0,inplace = True)"
   ]
  },
  {
   "cell_type": "code",
   "execution_count": 6,
   "metadata": {},
   "outputs": [],
   "source": [
    "Occupations = {'Management occupations':0,'Business and financial operations occupations':0,'Computer and mathematical occupations':0,'Architecture and engineering occupations':0,'Life, physical, and social science occupations':0,'Community and social service occupations':0,'Legal occupations':0,'Education, training, and library occupations':0,'Arts, design, entertainment, sports, and media occupations':0,'Healthcare practitioners and technical occupations:':0,'Fire fighting and prevention, and other protective service workers including supervisors':0,'Law enforcement workers including supervisors':0,'Food preparation and serving related occupations':0,'Sales and related occupations':0,'Office and administrative support occupations':0,'Farming, fishing, and forestry occupations':0,'Construction and extraction occupations':0,'Installation, maintenance, and repair occupations':0,'Production occupations':0,'Transportation occupations':0,'Material moving occupations':0}"
   ]
  },
  {
   "cell_type": "code",
   "execution_count": 7,
   "metadata": {},
   "outputs": [
    {
     "data": {
      "text/html": [
       "<style  type=\"text/css\" >\n",
       "</style><table id=\"T_8325b1f0_32b8_11eb_a5e2_acde48001122\" ><thead>    <tr>        <th class=\"blank level0\" ></th>        <th class=\"col_heading level0 col0\" >Occupations</th>        <th class=\"col_heading level0 col1\" >NumEmps</th>    </tr></thead><tbody>\n",
       "                <tr>\n",
       "                        <th id=\"T_8325b1f0_32b8_11eb_a5e2_acde48001122level0_row0\" class=\"row_heading level0 row0\" >0</th>\n",
       "                        <td id=\"T_8325b1f0_32b8_11eb_a5e2_acde48001122row0_col0\" class=\"data row0 col0\" >Management occupations</td>\n",
       "                        <td id=\"T_8325b1f0_32b8_11eb_a5e2_acde48001122row0_col1\" class=\"data row0 col1\" >660291.700000</td>\n",
       "            </tr>\n",
       "            <tr>\n",
       "                        <th id=\"T_8325b1f0_32b8_11eb_a5e2_acde48001122level0_row1\" class=\"row_heading level0 row1\" >1</th>\n",
       "                        <td id=\"T_8325b1f0_32b8_11eb_a5e2_acde48001122row1_col0\" class=\"data row1 col0\" >Business and financial operations occupations</td>\n",
       "                        <td id=\"T_8325b1f0_32b8_11eb_a5e2_acde48001122row1_col1\" class=\"data row1 col1\" >378860.400000</td>\n",
       "            </tr>\n",
       "            <tr>\n",
       "                        <th id=\"T_8325b1f0_32b8_11eb_a5e2_acde48001122level0_row2\" class=\"row_heading level0 row2\" >2</th>\n",
       "                        <td id=\"T_8325b1f0_32b8_11eb_a5e2_acde48001122row2_col0\" class=\"data row2 col0\" >Computer and mathematical occupations</td>\n",
       "                        <td id=\"T_8325b1f0_32b8_11eb_a5e2_acde48001122row2_col1\" class=\"data row2 col1\" >167229.700000</td>\n",
       "            </tr>\n",
       "            <tr>\n",
       "                        <th id=\"T_8325b1f0_32b8_11eb_a5e2_acde48001122level0_row3\" class=\"row_heading level0 row3\" >3</th>\n",
       "                        <td id=\"T_8325b1f0_32b8_11eb_a5e2_acde48001122row3_col0\" class=\"data row3 col0\" >Architecture and engineering occupations</td>\n",
       "                        <td id=\"T_8325b1f0_32b8_11eb_a5e2_acde48001122row3_col1\" class=\"data row3 col1\" >62878.000000</td>\n",
       "            </tr>\n",
       "            <tr>\n",
       "                        <th id=\"T_8325b1f0_32b8_11eb_a5e2_acde48001122level0_row4\" class=\"row_heading level0 row4\" >4</th>\n",
       "                        <td id=\"T_8325b1f0_32b8_11eb_a5e2_acde48001122row4_col0\" class=\"data row4 col0\" >Life, physical, and social science occupations</td>\n",
       "                        <td id=\"T_8325b1f0_32b8_11eb_a5e2_acde48001122row4_col1\" class=\"data row4 col1\" >56581.600000</td>\n",
       "            </tr>\n",
       "            <tr>\n",
       "                        <th id=\"T_8325b1f0_32b8_11eb_a5e2_acde48001122level0_row5\" class=\"row_heading level0 row5\" >5</th>\n",
       "                        <td id=\"T_8325b1f0_32b8_11eb_a5e2_acde48001122row5_col0\" class=\"data row5 col0\" >Community and social service occupations</td>\n",
       "                        <td id=\"T_8325b1f0_32b8_11eb_a5e2_acde48001122row5_col1\" class=\"data row5 col1\" >122128.700000</td>\n",
       "            </tr>\n",
       "            <tr>\n",
       "                        <th id=\"T_8325b1f0_32b8_11eb_a5e2_acde48001122level0_row6\" class=\"row_heading level0 row6\" >6</th>\n",
       "                        <td id=\"T_8325b1f0_32b8_11eb_a5e2_acde48001122row6_col0\" class=\"data row6 col0\" >Legal occupations</td>\n",
       "                        <td id=\"T_8325b1f0_32b8_11eb_a5e2_acde48001122row6_col1\" class=\"data row6 col1\" >143340.600000</td>\n",
       "            </tr>\n",
       "            <tr>\n",
       "                        <th id=\"T_8325b1f0_32b8_11eb_a5e2_acde48001122level0_row7\" class=\"row_heading level0 row7\" >7</th>\n",
       "                        <td id=\"T_8325b1f0_32b8_11eb_a5e2_acde48001122row7_col0\" class=\"data row7 col0\" >Education, training, and library occupations</td>\n",
       "                        <td id=\"T_8325b1f0_32b8_11eb_a5e2_acde48001122row7_col1\" class=\"data row7 col1\" >332511.100000</td>\n",
       "            </tr>\n",
       "            <tr>\n",
       "                        <th id=\"T_8325b1f0_32b8_11eb_a5e2_acde48001122level0_row8\" class=\"row_heading level0 row8\" >8</th>\n",
       "                        <td id=\"T_8325b1f0_32b8_11eb_a5e2_acde48001122row8_col0\" class=\"data row8 col0\" >Arts, design, entertainment, sports, and media occupations</td>\n",
       "                        <td id=\"T_8325b1f0_32b8_11eb_a5e2_acde48001122row8_col1\" class=\"data row8 col1\" >336787.100000</td>\n",
       "            </tr>\n",
       "            <tr>\n",
       "                        <th id=\"T_8325b1f0_32b8_11eb_a5e2_acde48001122level0_row9\" class=\"row_heading level0 row9\" >9</th>\n",
       "                        <td id=\"T_8325b1f0_32b8_11eb_a5e2_acde48001122row9_col0\" class=\"data row9 col0\" >Healthcare practitioners and technical occupations:</td>\n",
       "                        <td id=\"T_8325b1f0_32b8_11eb_a5e2_acde48001122row9_col1\" class=\"data row9 col1\" >299487.400000</td>\n",
       "            </tr>\n",
       "            <tr>\n",
       "                        <th id=\"T_8325b1f0_32b8_11eb_a5e2_acde48001122level0_row10\" class=\"row_heading level0 row10\" >10</th>\n",
       "                        <td id=\"T_8325b1f0_32b8_11eb_a5e2_acde48001122row10_col0\" class=\"data row10 col0\" >Fire fighting and prevention, and other protective service workers including supervisors</td>\n",
       "                        <td id=\"T_8325b1f0_32b8_11eb_a5e2_acde48001122row10_col1\" class=\"data row10 col1\" >84213.300000</td>\n",
       "            </tr>\n",
       "            <tr>\n",
       "                        <th id=\"T_8325b1f0_32b8_11eb_a5e2_acde48001122level0_row11\" class=\"row_heading level0 row11\" >11</th>\n",
       "                        <td id=\"T_8325b1f0_32b8_11eb_a5e2_acde48001122row11_col0\" class=\"data row11 col0\" >Law enforcement workers including supervisors</td>\n",
       "                        <td id=\"T_8325b1f0_32b8_11eb_a5e2_acde48001122row11_col1\" class=\"data row11 col1\" >57776.700000</td>\n",
       "            </tr>\n",
       "            <tr>\n",
       "                        <th id=\"T_8325b1f0_32b8_11eb_a5e2_acde48001122level0_row12\" class=\"row_heading level0 row12\" >12</th>\n",
       "                        <td id=\"T_8325b1f0_32b8_11eb_a5e2_acde48001122row12_col0\" class=\"data row12 col0\" >Food preparation and serving related occupations</td>\n",
       "                        <td id=\"T_8325b1f0_32b8_11eb_a5e2_acde48001122row12_col1\" class=\"data row12 col1\" >378959.900000</td>\n",
       "            </tr>\n",
       "            <tr>\n",
       "                        <th id=\"T_8325b1f0_32b8_11eb_a5e2_acde48001122level0_row13\" class=\"row_heading level0 row13\" >13</th>\n",
       "                        <td id=\"T_8325b1f0_32b8_11eb_a5e2_acde48001122row13_col0\" class=\"data row13 col0\" >Sales and related occupations</td>\n",
       "                        <td id=\"T_8325b1f0_32b8_11eb_a5e2_acde48001122row13_col1\" class=\"data row13 col1\" >633190.700000</td>\n",
       "            </tr>\n",
       "            <tr>\n",
       "                        <th id=\"T_8325b1f0_32b8_11eb_a5e2_acde48001122level0_row14\" class=\"row_heading level0 row14\" >14</th>\n",
       "                        <td id=\"T_8325b1f0_32b8_11eb_a5e2_acde48001122row14_col0\" class=\"data row14 col0\" >Office and administrative support occupations</td>\n",
       "                        <td id=\"T_8325b1f0_32b8_11eb_a5e2_acde48001122row14_col1\" class=\"data row14 col1\" >752162.000000</td>\n",
       "            </tr>\n",
       "            <tr>\n",
       "                        <th id=\"T_8325b1f0_32b8_11eb_a5e2_acde48001122level0_row15\" class=\"row_heading level0 row15\" >15</th>\n",
       "                        <td id=\"T_8325b1f0_32b8_11eb_a5e2_acde48001122row15_col0\" class=\"data row15 col0\" >Farming, fishing, and forestry occupations</td>\n",
       "                        <td id=\"T_8325b1f0_32b8_11eb_a5e2_acde48001122row15_col1\" class=\"data row15 col1\" >4854.900000</td>\n",
       "            </tr>\n",
       "            <tr>\n",
       "                        <th id=\"T_8325b1f0_32b8_11eb_a5e2_acde48001122level0_row16\" class=\"row_heading level0 row16\" >16</th>\n",
       "                        <td id=\"T_8325b1f0_32b8_11eb_a5e2_acde48001122row16_col0\" class=\"data row16 col0\" >Construction and extraction occupations</td>\n",
       "                        <td id=\"T_8325b1f0_32b8_11eb_a5e2_acde48001122row16_col1\" class=\"data row16 col1\" >289278.700000</td>\n",
       "            </tr>\n",
       "            <tr>\n",
       "                        <th id=\"T_8325b1f0_32b8_11eb_a5e2_acde48001122level0_row17\" class=\"row_heading level0 row17\" >17</th>\n",
       "                        <td id=\"T_8325b1f0_32b8_11eb_a5e2_acde48001122row17_col0\" class=\"data row17 col0\" >Installation, maintenance, and repair occupations</td>\n",
       "                        <td id=\"T_8325b1f0_32b8_11eb_a5e2_acde48001122row17_col1\" class=\"data row17 col1\" >113891.300000</td>\n",
       "            </tr>\n",
       "            <tr>\n",
       "                        <th id=\"T_8325b1f0_32b8_11eb_a5e2_acde48001122level0_row18\" class=\"row_heading level0 row18\" >18</th>\n",
       "                        <td id=\"T_8325b1f0_32b8_11eb_a5e2_acde48001122row18_col0\" class=\"data row18 col0\" >Production occupations</td>\n",
       "                        <td id=\"T_8325b1f0_32b8_11eb_a5e2_acde48001122row18_col1\" class=\"data row18 col1\" >167846.700000</td>\n",
       "            </tr>\n",
       "            <tr>\n",
       "                        <th id=\"T_8325b1f0_32b8_11eb_a5e2_acde48001122level0_row19\" class=\"row_heading level0 row19\" >19</th>\n",
       "                        <td id=\"T_8325b1f0_32b8_11eb_a5e2_acde48001122row19_col0\" class=\"data row19 col0\" >Transportation occupations</td>\n",
       "                        <td id=\"T_8325b1f0_32b8_11eb_a5e2_acde48001122row19_col1\" class=\"data row19 col1\" >271526.400000</td>\n",
       "            </tr>\n",
       "            <tr>\n",
       "                        <th id=\"T_8325b1f0_32b8_11eb_a5e2_acde48001122level0_row20\" class=\"row_heading level0 row20\" >20</th>\n",
       "                        <td id=\"T_8325b1f0_32b8_11eb_a5e2_acde48001122row20_col0\" class=\"data row20 col0\" >Material moving occupations</td>\n",
       "                        <td id=\"T_8325b1f0_32b8_11eb_a5e2_acde48001122row20_col1\" class=\"data row20 col1\" >99767.600000</td>\n",
       "            </tr>\n",
       "    </tbody></table>"
      ],
      "text/plain": [
       "<pandas.io.formats.style.Styler at 0x7fb29b706ee0>"
      ]
     },
     "execution_count": 7,
     "metadata": {},
     "output_type": "execute_result"
    }
   ],
   "source": [
    "# Occupations = {'Management occupations':0,'Business and financial operations occupations':0,'Computer and mathematical occupations':0,'Architecture and engineering occupations':0,'Life, physical, and social science occupations':0,'Community and social service occupations':0,'Legal occupations':0,'Education, training, and library occupations':0,'Arts, design, entertainment, sports, and media occupations':0,'Healthcare practitioners and technical occupations':0,'Fire fighting and prevention, and other protective service workers including supervisors':0,'Law enforcement workers including supervisors':0,'Food preparation and serving related occupations':0,'Sales and related occupations':0,'Office and administrative support occupations':0,'Farming, fishing, and forestry occupations':0,'Construction and extraction occupations':0,'Installation, maintenance, and repair occupations':0,'Production occupations':0,'Transportation occupations':0,'Material moving occupations':0}\n",
    "\n",
    "for i in range(Data.shape[0]):\n",
    "        for key in Occupations.keys():           \n",
    "            if key in Data.iloc[i][0] and sum(Data.iloc[i][x] for x in range(1,6)) != np.nan:\n",
    "                Occupations[key] += sum(Data.iloc[i][x] for x in range(1,6)) \n",
    "\n",
    "Occupations = pd.DataFrame.from_dict(Occupations,orient='index',columns=['NumEmps'])\n",
    "Occupations.insert(loc=0,column = 'Occupations',value = Occupations.index)\n",
    "Occupations.reset_index(drop=True,inplace=True)\n",
    "Occupations['NumEmps'] /= 10\n",
    "Occupations.style"
   ]
  },
  {
   "cell_type": "code",
   "execution_count": 8,
   "metadata": {},
   "outputs": [],
   "source": [
    "Occupations.to_csv(os.path.join('/Users/tracy/Desktop/STAT5702_NYC_Employment_Analysis/DataPreprocessing/Data/NumEmp','aggregate_cleveland.csv'),index=False)\n"
   ]
  }
 ],
 "metadata": {
  "kernelspec": {
   "display_name": "Python 3",
   "language": "python",
   "name": "python3"
  },
  "language_info": {
   "codemirror_mode": {
    "name": "ipython",
    "version": 3
   },
   "file_extension": ".py",
   "mimetype": "text/x-python",
   "name": "python",
   "nbconvert_exporter": "python",
   "pygments_lexer": "ipython3",
   "version": "3.9.0"
  }
 },
 "nbformat": 4,
 "nbformat_minor": 4
}
