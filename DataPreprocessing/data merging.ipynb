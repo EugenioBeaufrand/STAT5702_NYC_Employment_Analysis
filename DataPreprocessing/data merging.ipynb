{
 "cells": [
  {
   "cell_type": "code",
   "execution_count": 1,
   "metadata": {},
   "outputs": [],
   "source": [
    "import pandas as pd\n",
    "import numpy as np\n",
    "import os"
   ]
  },
  {
   "cell_type": "markdown",
   "metadata": {},
   "source": [
    "variables: \n",
    "1. NewEconomicGrowth (all kinds of economic growth data in NYC and USA)\n",
    "1) calculate the average of each year\n",
    "2) select the rows and cols that we need\n",
    "2. USA GDP\n",
    "1) select the cols that we need\n",
    "3. employment data\n",
    "1) merge\n",
    "4. NYC population\n",
    "1) "
   ]
  }
 ],
 "metadata": {
  "kernelspec": {
   "display_name": "Python 3",
   "language": "python",
   "name": "python3"
  },
  "language_info": {
   "codemirror_mode": {
    "name": "ipython",
    "version": 3
   },
   "file_extension": ".py",
   "mimetype": "text/x-python",
   "name": "python",
   "nbconvert_exporter": "python",
   "pygments_lexer": "ipython3",
   "version": "3.7.3"
  }
 },
 "nbformat": 4,
 "nbformat_minor": 2
}
