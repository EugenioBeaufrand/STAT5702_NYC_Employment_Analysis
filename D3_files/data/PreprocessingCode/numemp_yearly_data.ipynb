{
 "cells": [
  {
   "cell_type": "code",
   "execution_count": 9,
   "metadata": {},
   "outputs": [],
   "source": [
    "import pandas as pd\n",
    "import numpy as np\n",
    "import os"
   ]
  },
  {
   "cell_type": "code",
   "execution_count": 11,
   "metadata": {},
   "outputs": [
    {
     "data": {
      "text/html": [
       "<div>\n",
       "<style scoped>\n",
       "    .dataframe tbody tr th:only-of-type {\n",
       "        vertical-align: middle;\n",
       "    }\n",
       "\n",
       "    .dataframe tbody tr th {\n",
       "        vertical-align: top;\n",
       "    }\n",
       "\n",
       "    .dataframe thead th {\n",
       "        text-align: right;\n",
       "    }\n",
       "</style>\n",
       "<table border=\"1\" class=\"dataframe\">\n",
       "  <thead>\n",
       "    <tr style=\"text-align: right;\">\n",
       "      <th></th>\n",
       "      <th>Occupations</th>\n",
       "      <th>year</th>\n",
       "      <th>YearlyNumEmp</th>\n",
       "    </tr>\n",
       "  </thead>\n",
       "  <tbody>\n",
       "    <tr>\n",
       "      <th>0</th>\n",
       "      <td>Management occupations</td>\n",
       "      <td>2010</td>\n",
       "      <td>555152.00</td>\n",
       "    </tr>\n",
       "    <tr>\n",
       "      <th>1</th>\n",
       "      <td>Business and financial operations occupations</td>\n",
       "      <td>2010</td>\n",
       "      <td>341867.25</td>\n",
       "    </tr>\n",
       "    <tr>\n",
       "      <th>2</th>\n",
       "      <td>Computer and mathematical occupations</td>\n",
       "      <td>2010</td>\n",
       "      <td>129836.25</td>\n",
       "    </tr>\n",
       "    <tr>\n",
       "      <th>3</th>\n",
       "      <td>Architecture and engineering occupations</td>\n",
       "      <td>2010</td>\n",
       "      <td>54226.25</td>\n",
       "    </tr>\n",
       "    <tr>\n",
       "      <th>4</th>\n",
       "      <td>Life, physical, and social science occupations</td>\n",
       "      <td>2010</td>\n",
       "      <td>50566.50</td>\n",
       "    </tr>\n",
       "    <tr>\n",
       "      <th>...</th>\n",
       "      <td>...</td>\n",
       "      <td>...</td>\n",
       "      <td>...</td>\n",
       "    </tr>\n",
       "    <tr>\n",
       "      <th>245</th>\n",
       "      <td>Construction and extraction occupations</td>\n",
       "      <td>2019</td>\n",
       "      <td>303427.50</td>\n",
       "    </tr>\n",
       "    <tr>\n",
       "      <th>246</th>\n",
       "      <td>Installation, maintenance, and repair occupations</td>\n",
       "      <td>2019</td>\n",
       "      <td>110389.50</td>\n",
       "    </tr>\n",
       "    <tr>\n",
       "      <th>247</th>\n",
       "      <td>Production occupations</td>\n",
       "      <td>2019</td>\n",
       "      <td>149535.50</td>\n",
       "    </tr>\n",
       "    <tr>\n",
       "      <th>248</th>\n",
       "      <td>Transportation occupations</td>\n",
       "      <td>2019</td>\n",
       "      <td>282836.00</td>\n",
       "    </tr>\n",
       "    <tr>\n",
       "      <th>249</th>\n",
       "      <td>Material moving occupations</td>\n",
       "      <td>2019</td>\n",
       "      <td>132797.50</td>\n",
       "    </tr>\n",
       "  </tbody>\n",
       "</table>\n",
       "<p>250 rows × 3 columns</p>\n",
       "</div>"
      ],
      "text/plain": [
       "                                           Occupations  year  YearlyNumEmp\n",
       "0                               Management occupations  2010     555152.00\n",
       "1        Business and financial operations occupations  2010     341867.25\n",
       "2                Computer and mathematical occupations  2010     129836.25\n",
       "3             Architecture and engineering occupations  2010      54226.25\n",
       "4       Life, physical, and social science occupations  2010      50566.50\n",
       "..                                                 ...   ...           ...\n",
       "245            Construction and extraction occupations  2019     303427.50\n",
       "246  Installation, maintenance, and repair occupations  2019     110389.50\n",
       "247                             Production occupations  2019     149535.50\n",
       "248                         Transportation occupations  2019     282836.00\n",
       "249                        Material moving occupations  2019     132797.50\n",
       "\n",
       "[250 rows x 3 columns]"
      ]
     },
     "execution_count": 11,
     "metadata": {},
     "output_type": "execute_result"
    }
   ],
   "source": [
    "AggregateYearlyData = pd.read_csv('/Users/tracy/Documents/GitHub/STAT5702_NYC_Employment_Analysis/DataPreprocessing/Data/NumEmp/Occupation_Yearly.csv') \n",
    "\n",
    "AggregateYearlyData = AggregateYearlyData.drop(\"Unnamed: 0\",1)\n",
    "AggregateYearlyData"
   ]
  },
  {
   "cell_type": "code",
   "execution_count": 11,
   "metadata": {},
   "outputs": [],
   "source": [
    "AggregateYearlyData.to_csv(\"/Users/tracy/Documents/GitHub/STAT5702_NYC_Employment_Analysis/D3_files/data/PreprocessedData/yearly_numemp.csv\",index = False)"
   ]
  },
  {
   "cell_type": "code",
   "execution_count": 17,
   "metadata": {},
   "outputs": [],
   "source": []
  }
 ],
 "metadata": {
  "kernelspec": {
   "display_name": "Python 3",
   "language": "python",
   "name": "python3"
  },
  "language_info": {
   "codemirror_mode": {
    "name": "ipython",
    "version": 3
   },
   "file_extension": ".py",
   "mimetype": "text/x-python",
   "name": "python",
   "nbconvert_exporter": "python",
   "pygments_lexer": "ipython3",
   "version": "3.9.0"
  }
 },
 "nbformat": 4,
 "nbformat_minor": 4
}
