{
 "cells": [
  {
   "cell_type": "code",
   "execution_count": 1,
   "metadata": {},
   "outputs": [],
   "source": [
    "import pandas as pd\n",
    "import numpy as np\n",
    "import os"
   ]
  },
  {
   "cell_type": "code",
   "execution_count": 3,
   "metadata": {},
   "outputs": [
    {
     "name": "stdout",
     "output_type": "stream",
     "text": [
      "'Occupations,2010\\nOffice and administrative support occupations,779811.5\\nSales and related occupations,621491.25\\nManagement occupations,555152.0\\n\"Education, training, and library occupations\",398378.0\\nBusiness and financial operations occupations,341867.25\\nFood preparation and serving related occupations,336968.75\\nBuilding and grounds cleaning and maintenance occupations,299408.0\\n\"Arts, design, entertainment, sports, and media occupations\",297418.0\\nConstruction and extraction occupations,276049.5\\nPersonal care and service occupations,274269.25\\nHealthcare support occupations,253999.0\\nTransportation occupations,240034.5\\nHealth diagnosing and treating practitioners and other technical occupations,198486.5\\nProduction occupations,193545.5\\nLegal occupations,139558.25\\nComputer and mathematical occupations,129836.25\\nCommunity and social service occupations,122973.0\\n\"Installation, maintenance, and repair occupations\",111808.25\\n\"Fire fighting and prevention, and other protective service workers including supervisors\",104832.5\\nMaterial moving occupations,102361.25\\nHealth technologists and technicians,66799.0\\nLaw enforcement workers including supervisors,57374.25\\nArchitecture and engineering occupations,54226.25\\n\"Life, physical, and social science occupations\",50566.5\\n\"Farming, fishing, and forestry occupations\",3604.0\\n\\n'\n"
     ]
    }
   ],
   "source": [
    "filename = '/Users/tracy/Documents/GitHub/STAT5702_NYC_Employment_Analysis/D3_files/data/PreprocessedData/numemp_2010.csv'\n",
    "with open(filename) as f:\n",
    "    s = f.read() + '\\n' # add trailing new line character\n",
    "\n",
    "print(repr(s))"
   ]
  },
  {
   "cell_type": "code",
   "execution_count": 30,
   "metadata": {},
   "outputs": [
    {
     "name": "stdout",
     "output_type": "stream",
     "text": [
      "'Occupations,2011\\nOffice and administrative support occupations,776806.5\\nSales and related occupations,659189.25\\nManagement occupations,538868.0\\n\"Education, training, and library occupations\",386141.0\\nBusiness and financial operations occupations,347058.25\\nFood preparation and serving related occupations,376449.75\\nBuilding and grounds cleaning and maintenance occupations,294417.0\\n\"Arts, design, entertainment, sports, and media occupations\",314854.0\\nConstruction and extraction occupations,275838.5\\nPersonal care and service occupations,296898.25\\nHealthcare support occupations,257936.0\\nTransportation occupations,235066.5\\nHealth diagnosing and treating practitioners and other technical occupations,194109.5\\nProduction occupations,180604.5\\nLegal occupations,145403.25\\nComputer and mathematical occupations,129610.25\\nCommunity and social service occupations,104616.0\\n\"Installation, maintenance, and repair occupations\",114664.25\\n\"Fire fighting and prevention, and other protective service workers including supervisors\",109542.5\\nMaterial moving occupations,87665.25\\nHealth technologists and technicians,68263.0\\nLaw enforcement workers including supervisors,54686.25\\nArchitecture and engineering occupations,62655.25\\n\"Life, physical, and social science occupations\",56399.5\\n\"Farming, fishing, and forestry occupations\",8709.0\\n'\n"
     ]
    }
   ],
   "source": [
    "filename = '/Users/tracy/Documents/GitHub/STAT5702_NYC_Employment_Analysis/D3_files/data/PreprocessedData/numemp_2011.csv'\n",
    "with open(filename) as f:\n",
    "    s = f.read() # add trailing new line character\n",
    "\n",
    "print(repr(s))"
   ]
  },
  {
   "cell_type": "code",
   "execution_count": 31,
   "metadata": {},
   "outputs": [
    {
     "name": "stdout",
     "output_type": "stream",
     "text": [
      "'Occupations,2012\\nOffice and administrative support occupations,778614.625\\nSales and related occupations,661007.375\\nManagement occupations,603437.5\\n\"Education, training, and library occupations\",409996.25\\nBusiness and financial operations occupations,348813.625\\nFood preparation and serving related occupations,367739.0\\nBuilding and grounds cleaning and maintenance occupations,287872.125\\n\"Arts, design, entertainment, sports, and media occupations\",322478.5\\nConstruction and extraction occupations,274084.0\\nPersonal care and service occupations,295994.875\\nHealthcare support occupations,260978.75\\nTransportation occupations,257435.875\\nHealth diagnosing and treating practitioners and other technical occupations,213491.125\\nProduction occupations,187946.75\\nLegal occupations,145999.875\\nComputer and mathematical occupations,145511.25\\nCommunity and social service occupations,116521.375\\n\"Installation, maintenance, and repair occupations\",112345.125\\n\"Fire fighting and prevention, and other protective service workers including supervisors\",111721.625\\nMaterial moving occupations,95917.625\\nHealth technologists and technicians,69781.125\\nLaw enforcement workers including supervisors,60926.0\\nArchitecture and engineering occupations,57477.0\\n\"Life, physical, and social science occupations\",52814.25\\n\"Farming, fishing, and forestry occupations\",4098.125\\n\\n'\n"
     ]
    }
   ],
   "source": [
    "filename = '/Users/tracy/Documents/GitHub/STAT5702_NYC_Employment_Analysis/D3_files/data/PreprocessedData/numemp_2012.csv'\n",
    "with open(filename) as f:\n",
    "    s = f.read() + '\\n' # add trailing new line character\n",
    "\n",
    "print(repr(s))"
   ]
  },
  {
   "cell_type": "code",
   "execution_count": 33,
   "metadata": {
    "scrolled": true
   },
   "outputs": [
    {
     "name": "stdout",
     "output_type": "stream",
     "text": [
      "'Occupations,2013\\nOffice and administrative support occupations,768034.125\\nSales and related occupations,652067.75\\nManagement occupations,629771.25\\n\"Education, training, and library occupations\",425314.375\\nBusiness and financial operations occupations,370954.75\\nFood preparation and serving related occupations,371458.25\\nBuilding and grounds cleaning and maintenance occupations,317784.5\\n\"Arts, design, entertainment, sports, and media occupations\",348746.25\\nConstruction and extraction occupations,277003.0\\nPersonal care and service occupations,289360.5\\nHealthcare support occupations,275692.625\\nTransportation occupations,251799.5\\nHealth diagnosing and treating practitioners and other technical occupations,218173.75\\nProduction occupations,170748.25\\nLegal occupations,133874.125\\nComputer and mathematical occupations,158481.875\\nCommunity and social service occupations,124456.625\\n\"Installation, maintenance, and repair occupations\",127171.375\\n\"Fire fighting and prevention, and other protective service workers including supervisors\",107395.25\\nMaterial moving occupations,94607.875\\nHealth technologists and technicians,68170.5\\nLaw enforcement workers including supervisors,55362.125\\nArchitecture and engineering occupations,51836.625\\n\"Life, physical, and social science occupations\",50389.625\\n\"Farming, fishing, and forestry occupations\",4093.0\\n'\n"
     ]
    }
   ],
   "source": [
    "filename = '/Users/tracy/Documents/GitHub/STAT5702_NYC_Employment_Analysis/D3_files/data/PreprocessedData/numemp_2013.csv'\n",
    "with open(filename) as f:\n",
    "    s = f.read() # add trailing new line character\n",
    "\n",
    "print(repr(s))"
   ]
  },
  {
   "cell_type": "code",
   "execution_count": 34,
   "metadata": {},
   "outputs": [
    {
     "name": "stdout",
     "output_type": "stream",
     "text": [
      "'Occupations,2014\\nOffice and administrative support occupations,767100.625\\nSales and related occupations,652031.5\\nManagement occupations,685725.25\\n\"Education, training, and library occupations\",433337.375\\nBusiness and financial operations occupations,374852.5\\nFood preparation and serving related occupations,398292.5\\nBuilding and grounds cleaning and maintenance occupations,310608.5\\n\"Arts, design, entertainment, sports, and media occupations\",326988.25\\nConstruction and extraction occupations,298331.5\\nPersonal care and service occupations,302526.25\\nHealthcare support occupations,261548.625\\nTransportation occupations,280691.0\\nHealth diagnosing and treating practitioners and other technical occupations,222505.25\\nProduction occupations,170006.75\\nLegal occupations,140116.875\\nComputer and mathematical occupations,157821.625\\nCommunity and social service occupations,120567.625\\n\"Installation, maintenance, and repair occupations\",114496.125\\n\"Fire fighting and prevention, and other protective service workers including supervisors\",101078.75\\nMaterial moving occupations,90894.625\\nHealth technologists and technicians,81922.5\\nLaw enforcement workers including supervisors,57527.875\\nArchitecture and engineering occupations,62845.375\\n\"Life, physical, and social science occupations\",53213.125\\n\"Farming, fishing, and forestry occupations\",4364.0\\n'\n"
     ]
    }
   ],
   "source": [
    "filename = '/Users/tracy/Documents/GitHub/STAT5702_NYC_Employment_Analysis/D3_files/data/PreprocessedData/numemp_2014.csv'\n",
    "with open(filename) as f:\n",
    "    s = f.read() \n",
    "print(repr(s))"
   ]
  },
  {
   "cell_type": "code",
   "execution_count": 35,
   "metadata": {},
   "outputs": [
    {
     "name": "stdout",
     "output_type": "stream",
     "text": [
      "'Occupations,2015\\nOffice and administrative support occupations,790438.5\\nSales and related occupations,639599.0\\nManagement occupations,710697.5\\n\"Education, training, and library occupations\",448925.0\\nBusiness and financial operations occupations,378538.5\\nFood preparation and serving related occupations,413959.0\\nBuilding and grounds cleaning and maintenance occupations,298689.5\\n\"Arts, design, entertainment, sports, and media occupations\",346099.5\\nConstruction and extraction occupations,293826.5\\nPersonal care and service occupations,308635.5\\nHealthcare support occupations,271790.5\\nTransportation occupations,288061.0\\nHealth diagnosing and treating practitioners and other technical occupations,226249.5\\nProduction occupations,171431.5\\nLegal occupations,149847.0\\nComputer and mathematical occupations,166344.0\\nCommunity and social service occupations,125916.5\\n\"Installation, maintenance, and repair occupations\",123636.5\\n\"Fire fighting and prevention, and other protective service workers including supervisors\",106526.5\\nMaterial moving occupations,83841.5\\nHealth technologists and technicians,91912.0\\nLaw enforcement workers including supervisors,58624.5\\nArchitecture and engineering occupations,61046.5\\n\"Life, physical, and social science occupations\",61940.0\\n\"Farming, fishing, and forestry occupations\",6223.0\\n'\n"
     ]
    }
   ],
   "source": [
    "filename = '/Users/tracy/Documents/GitHub/STAT5702_NYC_Employment_Analysis/D3_files/data/PreprocessedData/numemp_2015.csv'\n",
    "with open(filename) as f:\n",
    "    s = f.read() \n",
    "print(repr(s))"
   ]
  },
  {
   "cell_type": "code",
   "execution_count": 36,
   "metadata": {},
   "outputs": [
    {
     "name": "stdout",
     "output_type": "stream",
     "text": [
      "'Occupations,2016\\nOffice and administrative support occupations,773342.5\\nSales and related occupations,658210.25\\nManagement occupations,738015.0\\n\"Education, training, and library occupations\",415227.0\\nBusiness and financial operations occupations,381351.25\\nFood preparation and serving related occupations,398791.75\\nBuilding and grounds cleaning and maintenance occupations,297485.0\\n\"Arts, design, entertainment, sports, and media occupations\",347484.0\\nConstruction and extraction occupations,288614.5\\nPersonal care and service occupations,331687.25\\nHealthcare support occupations,283578.0\\nTransportation occupations,295728.5\\nHealth diagnosing and treating practitioners and other technical occupations,236781.5\\nProduction occupations,157550.5\\nLegal occupations,150222.25\\nComputer and mathematical occupations,182507.25\\nCommunity and social service occupations,133204.0\\n\"Installation, maintenance, and repair occupations\",122622.25\\n\"Fire fighting and prevention, and other protective service workers including supervisors\",104377.5\\nMaterial moving occupations,82524.25\\nHealth technologists and technicians,79291.0\\nLaw enforcement workers including supervisors,57021.25\\nArchitecture and engineering occupations,68765.25\\n\"Life, physical, and social science occupations\",58716.5\\n\"Farming, fishing, and forestry occupations\",3749.0\\n'\n"
     ]
    }
   ],
   "source": [
    "filename = '/Users/tracy/Documents/GitHub/STAT5702_NYC_Employment_Analysis/D3_files/data/PreprocessedData/numemp_2016.csv'\n",
    "with open(filename) as f:\n",
    "    s = f.read() \n",
    "print(repr(s))"
   ]
  },
  {
   "cell_type": "code",
   "execution_count": 37,
   "metadata": {},
   "outputs": [
    {
     "name": "stdout",
     "output_type": "stream",
     "text": [
      "'Occupations,2017\\nOffice and administrative support occupations,797758.125\\nSales and related occupations,627175.375\\nManagement occupations,727781.0\\n\"Education, training, and library occupations\",428639.25\\nBusiness and financial operations occupations,408266.125\\nFood preparation and serving related occupations,384540.0\\nBuilding and grounds cleaning and maintenance occupations,304999.625\\n\"Arts, design, entertainment, sports, and media occupations\",368612.0\\nConstruction and extraction occupations,306867.5\\nPersonal care and service occupations,323892.375\\nHealthcare support occupations,301163.25\\nTransportation occupations,293206.875\\nHealth diagnosing and treating practitioners and other technical occupations,239778.625\\nProduction occupations,158939.25\\nLegal occupations,144387.875\\nComputer and mathematical occupations,184616.25\\nCommunity and social service occupations,138300.875\\n\"Installation, maintenance, and repair occupations\",115965.625\\n\"Fire fighting and prevention, and other protective service workers including supervisors\",107292.125\\nMaterial moving occupations,100902.125\\nHealth technologists and technicians,92955.125\\nLaw enforcement workers including supervisors,62573.5\\nArchitecture and engineering occupations,69674.5\\n\"Life, physical, and social science occupations\",56667.25\\n\"Farming, fishing, and forestry occupations\",5453.125\\n'\n"
     ]
    }
   ],
   "source": [
    "filename = '/Users/tracy/Documents/GitHub/STAT5702_NYC_Employment_Analysis/D3_files/data/PreprocessedData/numemp_2017.csv'\n",
    "with open(filename) as f:\n",
    "    s = f.read() \n",
    "print(repr(s))"
   ]
  },
  {
   "cell_type": "code",
   "execution_count": 38,
   "metadata": {},
   "outputs": [
    {
     "name": "stdout",
     "output_type": "stream",
     "text": [
      "'Occupations,2018\\nOffice and administrative support occupations,703787.5\\nSales and related occupations,592583.0\\nManagement occupations,693368.5\\n\"Education, training, and library occupations\",452035.0\\nBusiness and financial operations occupations,419721.5\\nFood preparation and serving related occupations,377419.0\\nBuilding and grounds cleaning and maintenance occupations,297937.5\\n\"Arts, design, entertainment, sports, and media occupations\",355466.5\\nConstruction and extraction occupations,310193.5\\nPersonal care and service occupations,261423.5\\nHealthcare support occupations,351295.5\\nTransportation occupations,305408.0\\nHealth diagnosing and treating practitioners and other technical occupations,235305.5\\nProduction occupations,150561.5\\nLegal occupations,141583.0\\nComputer and mathematical occupations,212220.0\\nCommunity and social service occupations,115189.5\\n\"Installation, maintenance, and repair occupations\",95279.5\\n\"Fire fighting and prevention, and other protective service workers including supervisors\",109167.5\\nMaterial moving occupations,134941.5\\nHealth technologists and technicians,86006.0\\nLaw enforcement workers including supervisors,60818.5\\nArchitecture and engineering occupations,68106.5\\n\"Life, physical, and social science occupations\",64962.0\\n\"Farming, fishing, and forestry occupations\",3162.0\\n'\n"
     ]
    }
   ],
   "source": [
    "filename = '/Users/tracy/Documents/GitHub/STAT5702_NYC_Employment_Analysis/D3_files/data/PreprocessedData/numemp_2018.csv'\n",
    "with open(filename) as f:\n",
    "    s = f.read() \n",
    "print(repr(s))"
   ]
  },
  {
   "cell_type": "code",
   "execution_count": 39,
   "metadata": {},
   "outputs": [
    {
     "name": "stdout",
     "output_type": "stream",
     "text": [
      "'Occupations,2019\\nOffice and administrative support occupations,634458.5\\nSales and related occupations,605927.0\\nManagement occupations,748540.5\\n\"Education, training, and library occupations\",459713.0\\nBusiness and financial operations occupations,437783.5\\nFood preparation and serving related occupations,387215.0\\nBuilding and grounds cleaning and maintenance occupations,280558.5\\n\"Arts, design, entertainment, sports, and media occupations\",349345.5\\nConstruction and extraction occupations,303427.5\\nPersonal care and service occupations,253862.5\\nHealthcare support occupations,370240.5\\nTransportation occupations,282836.0\\nHealth diagnosing and treating practitioners and other technical occupations,241476.5\\nProduction occupations,149535.5\\nLegal occupations,147392.0\\nComputer and mathematical occupations,212493.0\\nCommunity and social service occupations,133721.5\\n\"Installation, maintenance, and repair occupations\",110389.5\\n\"Fire fighting and prevention, and other protective service workers including supervisors\",120083.5\\nMaterial moving occupations,132797.5\\nHealth technologists and technicians,88458.0\\nLaw enforcement workers including supervisors,61299.5\\nArchitecture and engineering occupations,75378.5\\n\"Life, physical, and social science occupations\",61886.0\\n\"Farming, fishing, and forestry occupations\",5190.0\\n'\n"
     ]
    }
   ],
   "source": [
    "filename = '/Users/tracy/Documents/GitHub/STAT5702_NYC_Employment_Analysis/D3_files/data/PreprocessedData/numemp_2019.csv'\n",
    "with open(filename) as f:\n",
    "    s = f.read() \n",
    "print(repr(s))"
   ]
  }
 ],
 "metadata": {
  "kernelspec": {
   "display_name": "Python 3",
   "language": "python",
   "name": "python3"
  },
  "language_info": {
   "codemirror_mode": {
    "name": "ipython",
    "version": 3
   },
   "file_extension": ".py",
   "mimetype": "text/x-python",
   "name": "python",
   "nbconvert_exporter": "python",
   "pygments_lexer": "ipython3",
   "version": "3.9.0"
  }
 },
 "nbformat": 4,
 "nbformat_minor": 4
}
