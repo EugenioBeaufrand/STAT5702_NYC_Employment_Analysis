{
 "cells": [
  {
   "cell_type": "code",
   "execution_count": 1,
   "metadata": {},
   "outputs": [],
   "source": [
    "import pandas as pd\n",
    "import numpy as np\n",
    "import os"
   ]
  },
  {
   "cell_type": "code",
   "execution_count": 10,
   "metadata": {},
   "outputs": [
    {
     "data": {
      "text/html": [
       "<div>\n",
       "<style scoped>\n",
       "    .dataframe tbody tr th:only-of-type {\n",
       "        vertical-align: middle;\n",
       "    }\n",
       "\n",
       "    .dataframe tbody tr th {\n",
       "        vertical-align: top;\n",
       "    }\n",
       "\n",
       "    .dataframe thead th {\n",
       "        text-align: right;\n",
       "    }\n",
       "</style>\n",
       "<table border=\"1\" class=\"dataframe\">\n",
       "  <thead>\n",
       "    <tr style=\"text-align: right;\">\n",
       "      <th></th>\n",
       "      <th>date</th>\n",
       "      <th>name</th>\n",
       "      <th>value</th>\n",
       "    </tr>\n",
       "  </thead>\n",
       "  <tbody>\n",
       "    <tr>\n",
       "      <th>0</th>\n",
       "      <td>2010-01-01</td>\n",
       "      <td>Management occupations</td>\n",
       "      <td>555152.00</td>\n",
       "    </tr>\n",
       "    <tr>\n",
       "      <th>1</th>\n",
       "      <td>2010-01-01</td>\n",
       "      <td>Business and financial operations occupations</td>\n",
       "      <td>341867.25</td>\n",
       "    </tr>\n",
       "    <tr>\n",
       "      <th>2</th>\n",
       "      <td>2010-01-01</td>\n",
       "      <td>Computer and mathematical occupations</td>\n",
       "      <td>129836.25</td>\n",
       "    </tr>\n",
       "    <tr>\n",
       "      <th>3</th>\n",
       "      <td>2010-01-01</td>\n",
       "      <td>Architecture and engineering occupations</td>\n",
       "      <td>54226.25</td>\n",
       "    </tr>\n",
       "    <tr>\n",
       "      <th>4</th>\n",
       "      <td>2010-01-01</td>\n",
       "      <td>Life, physical, and social science occupations</td>\n",
       "      <td>50566.50</td>\n",
       "    </tr>\n",
       "    <tr>\n",
       "      <th>...</th>\n",
       "      <td>...</td>\n",
       "      <td>...</td>\n",
       "      <td>...</td>\n",
       "    </tr>\n",
       "    <tr>\n",
       "      <th>245</th>\n",
       "      <td>2019-01-01</td>\n",
       "      <td>Construction and extraction occupations</td>\n",
       "      <td>303427.50</td>\n",
       "    </tr>\n",
       "    <tr>\n",
       "      <th>246</th>\n",
       "      <td>2019-01-01</td>\n",
       "      <td>Installation, maintenance, and repair occupations</td>\n",
       "      <td>110389.50</td>\n",
       "    </tr>\n",
       "    <tr>\n",
       "      <th>247</th>\n",
       "      <td>2019-01-01</td>\n",
       "      <td>Production occupations</td>\n",
       "      <td>149535.50</td>\n",
       "    </tr>\n",
       "    <tr>\n",
       "      <th>248</th>\n",
       "      <td>2019-01-01</td>\n",
       "      <td>Transportation occupations</td>\n",
       "      <td>282836.00</td>\n",
       "    </tr>\n",
       "    <tr>\n",
       "      <th>249</th>\n",
       "      <td>2019-01-01</td>\n",
       "      <td>Material moving occupations</td>\n",
       "      <td>132797.50</td>\n",
       "    </tr>\n",
       "  </tbody>\n",
       "</table>\n",
       "<p>250 rows × 3 columns</p>\n",
       "</div>"
      ],
      "text/plain": [
       "           date                                               name      value\n",
       "0    2010-01-01                             Management occupations  555152.00\n",
       "1    2010-01-01      Business and financial operations occupations  341867.25\n",
       "2    2010-01-01              Computer and mathematical occupations  129836.25\n",
       "3    2010-01-01           Architecture and engineering occupations   54226.25\n",
       "4    2010-01-01     Life, physical, and social science occupations   50566.50\n",
       "..          ...                                                ...        ...\n",
       "245  2019-01-01            Construction and extraction occupations  303427.50\n",
       "246  2019-01-01  Installation, maintenance, and repair occupations  110389.50\n",
       "247  2019-01-01                             Production occupations  149535.50\n",
       "248  2019-01-01                         Transportation occupations  282836.00\n",
       "249  2019-01-01                        Material moving occupations  132797.50\n",
       "\n",
       "[250 rows x 3 columns]"
      ]
     },
     "execution_count": 10,
     "metadata": {},
     "output_type": "execute_result"
    }
   ],
   "source": [
    "AggregateYearlyData = pd.read_csv('/Users/tracy/Documents/GitHub/STAT5702_NYC_Employment_Analysis/DataPreprocessing/Data/NumEmp/Occupation_Yearly.csv') \n",
    "AggregateYearlyData = AggregateYearlyData.rename(columns = {\"Occupations\":\"name\",\n",
    "                                                            \"YearlyNumEmp\":\"value\",\n",
    "                                                            \"year\":\"date\"})\n",
    "AggregateYearlyData[\"date\"] = AggregateYearlyData[\"date\"].astype(str)+\"-01-01\"\n",
    "cols = [\"date\",\"name\",\"value\"]\n",
    "AggregateYearlyData = AggregateYearlyData[cols]\n",
    "AggregateYearlyData\n"
   ]
  },
  {
   "cell_type": "code",
   "execution_count": 11,
   "metadata": {},
   "outputs": [],
   "source": [
    "AggregateYearlyData.to_csv(\"/Users/tracy/Documents/GitHub/STAT5702_NYC_Employment_Analysis/D3_files/data/PreprocessedData/yearly_numemp.csv\",index = False)"
   ]
  },
  {
   "cell_type": "code",
   "execution_count": 17,
   "metadata": {},
   "outputs": [],
   "source": []
  }
 ],
 "metadata": {
  "kernelspec": {
   "display_name": "Python 3",
   "language": "python",
   "name": "python3"
  },
  "language_info": {
   "codemirror_mode": {
    "name": "ipython",
    "version": 3
   },
   "file_extension": ".py",
   "mimetype": "text/x-python",
   "name": "python",
   "nbconvert_exporter": "python",
   "pygments_lexer": "ipython3",
   "version": "3.9.0"
  }
 },
 "nbformat": 4,
 "nbformat_minor": 4
}
